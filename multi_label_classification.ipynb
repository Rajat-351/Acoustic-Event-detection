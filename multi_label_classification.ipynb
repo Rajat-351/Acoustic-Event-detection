{
  "nbformat": 4,
  "nbformat_minor": 0,
  "metadata": {
    "colab": {
      "name": "multi-label classification.ipynb",
      "provenance": []
    },
    "kernelspec": {
      "name": "python3",
      "display_name": "Python 3"
    },
    "language_info": {
      "name": "python"
    }
  },
  "cells": [
    {
      "cell_type": "markdown",
      "metadata": {
        "id": "z6dvH_F_jiqH"
      },
      "source": [
        "# Multilabel Classification Example"
      ]
    },
    {
      "cell_type": "markdown",
      "metadata": {
        "id": "kvDTJxWGfinA"
      },
      "source": [
        "Import required libraries and packages"
      ]
    },
    {
      "cell_type": "code",
      "metadata": {
        "id": "b8bv1ABkff7y"
      },
      "source": [
        "from numpy import mean\n",
        "from numpy import std\n",
        "from sklearn.datasets import make_multilabel_classification\n",
        "from sklearn.model_selection import RepeatedKFold\n",
        "from keras.models import Sequential\n",
        "from keras.layers import Dense\n",
        "from sklearn.metrics import accuracy_score\n",
        "from numpy import asarray\n"
      ],
      "execution_count": 9,
      "outputs": []
    },
    {
      "cell_type": "markdown",
      "metadata": {
        "id": "Au8KG2SpgbAy"
      },
      "source": [
        "Create a synthetic multi-label classification dataset using the make_multilabel_classification() function in the scikit-learn library.\n",
        "This dataset will have 1,000 samples with 10 input features. The dataset will have three class label outputs for each sample and each class will have one or two values (0 or 1, e.g. present or not present)."
      ]
    },
    {
      "cell_type": "code",
      "metadata": {
        "id": "ohyWYo5sfpjB"
      },
      "source": [
        "def get_dataset():\n",
        "\tX, y = make_multilabel_classification(n_samples=1000, n_features=10, n_classes=3, n_labels=2, random_state=1)\n",
        "\treturn X, y"
      ],
      "execution_count": 2,
      "outputs": []
    },
    {
      "cell_type": "markdown",
      "metadata": {
        "id": "jeHzEyHFhCZR"
      },
      "source": [
        "# Model Description\n",
        "The task has three output labels (classes) therefore it will require a neural network output layer with three nodes in the output layer.\n",
        "\n",
        "We use the ReLU activation function in the hidden layer. The hidden layer has 20 nodes.\n",
        "\n",
        "Each node in the output layer uses the sigmoid activation. This will predict a probability of class membership for the label, a value between 0 and 1. \n",
        "\n",
        "We fit the model using binary cross-entropy loss and the Adam version of stochastic gradient descent.\n",
        "\n",
        "### **Input and Output Dimensions**\n",
        "Each sample has 10 inputs and three outputs; therefore, the network requires an input layer that expects 10 inputs specified via the “input_dim” argument in the first hidden layer and three nodes in the output layer.\n",
        "\n",
        " "
      ]
    },
    {
      "cell_type": "code",
      "metadata": {
        "id": "5lJ2YD2ffrxB"
      },
      "source": [
        "# get the model\n",
        "def get_model(n_inputs, n_outputs):\n",
        "\tmodel = Sequential()\n",
        "\tmodel.add(Dense(20, input_dim=n_inputs, kernel_initializer='he_uniform', activation='relu'))\n",
        "\tmodel.add(Dense(n_outputs, activation='sigmoid'))\n",
        "\tmodel.compile(loss='binary_crossentropy', optimizer='adam')\n",
        "\treturn model"
      ],
      "execution_count": 3,
      "outputs": []
    },
    {
      "cell_type": "code",
      "metadata": {
        "id": "79kf-HNBfuDp"
      },
      "source": [
        "# evaluate a model using repeated k-fold cross-validation\n",
        "#takes the dataset, evaluates the model, and returns a list of evaluation scores, in this case, accuracy scores.\n",
        "def evaluate_model(X, y):\n",
        "\tresults = list()\n",
        "\tn_inputs, n_outputs = X.shape[1], y.shape[1]\n",
        "\t# define evaluation procedure\n",
        "\tcv = RepeatedKFold(n_splits=10, n_repeats=3, random_state=1)\n",
        "\t# enumerate folds\n",
        "\tfor train_ix, test_ix in cv.split(X):\n",
        "\t\t# prepare data\n",
        "\t\tX_train, X_test = X[train_ix], X[test_ix]\n",
        "\t\ty_train, y_test = y[train_ix], y[test_ix]\n",
        "\t\t# define model\n",
        "\t\tmodel = get_model(n_inputs, n_outputs)\n",
        "\t\t# fit model\n",
        "\t\tmodel.fit(X_train, y_train, verbose=0, epochs=100)\n",
        "\t\t# make a prediction on the test set\n",
        "\t\tyhat = model.predict(X_test)\n",
        "\t\t# round probabilities to class labels\n",
        "\t\tyhat = yhat.round()\n",
        "\t\t# calculate accuracy\n",
        "\t\tacc = accuracy_score(y_test, yhat)\n",
        "\t\t# store result\n",
        "\t\tprint('>%.3f' % acc)\n",
        "\t\tresults.append(acc)\n",
        "\treturn results"
      ],
      "execution_count": 4,
      "outputs": []
    },
    {
      "cell_type": "markdown",
      "metadata": {
        "id": "9fRwEGl3jBBt"
      },
      "source": [
        "# Training"
      ]
    },
    {
      "cell_type": "code",
      "metadata": {
        "colab": {
          "base_uri": "https://localhost:8080/"
        },
        "id": "c5-AbGp3BVXa",
        "outputId": "e7c33d7e-7781-4e0d-f8ba-1cde12f2a24b"
      },
      "source": [
        "# load dataset\n",
        "X, y = get_dataset()\n",
        "# evaluate model\n",
        "results = evaluate_model(X, y)\n",
        "# summarize performance\n",
        "print('Accuracy: %.3f (%.3f)' % (mean(results), std(results)))"
      ],
      "execution_count": 5,
      "outputs": [
        {
          "output_type": "stream",
          "name": "stdout",
          "text": [
            ">0.860\n",
            ">0.860\n",
            ">0.850\n",
            ">0.810\n",
            ">0.850\n",
            ">0.860\n",
            ">0.770\n",
            ">0.810\n",
            ">0.820\n",
            ">0.760\n",
            ">0.820\n",
            ">0.780\n",
            ">0.830\n",
            ">0.760\n",
            ">0.780\n",
            ">0.810\n",
            ">0.840\n",
            ">0.810\n",
            ">0.730\n",
            ">0.850\n",
            ">0.780\n",
            ">0.860\n",
            ">0.800\n",
            ">0.830\n",
            ">0.820\n",
            ">0.800\n",
            ">0.840\n",
            ">0.800\n",
            ">0.810\n",
            ">0.790\n",
            "Accuracy: 0.813 (0.034)\n"
          ]
        }
      ]
    },
    {
      "cell_type": "markdown",
      "metadata": {
        "id": "tOJ4rij5i4zB"
      },
      "source": [
        "# Prediction\n",
        "The model will predict the probability for each class label. This means it will predict three probabilities for each sample."
      ]
    },
    {
      "cell_type": "code",
      "metadata": {
        "colab": {
          "base_uri": "https://localhost:8080/"
        },
        "id": "60zXIP7eKlC9",
        "outputId": "292bea04-5af2-486c-ac22-5d693cabde7b"
      },
      "source": [
        "# fit the model on all data\n",
        "n_inputs, n_outputs = X.shape[1], y.shape[1]\n",
        "model = get_model(n_inputs, n_outputs)\n",
        "model.fit(X, y, verbose=0, epochs=100)\n",
        "# make a prediction for new data\n",
        "row = [3, 3, 6, 7, 8, 2, 11, 11, 1, 3]\n",
        "newX = asarray([row])\n",
        "yhat = model.predict(newX)\n",
        "print('Predicted: %s' % yhat[0])"
      ],
      "execution_count": 10,
      "outputs": [
        {
          "output_type": "stream",
          "name": "stdout",
          "text": [
            "Predicted: [0.9996196  0.97865856 0.00253844]\n"
          ]
        }
      ]
    },
    {
      "cell_type": "markdown",
      "metadata": {
        "id": "2_5chLPjjJWu"
      },
      "source": [
        "Prediction contains three output variables required for the multi-label classification task: the probabilities of each class label.\n",
        "Output of the model for an input is : Predicted: [0.9996196  0.97865856 0.00253844]\n",
        "\n",
        "It shows that class 1 and class 2 are true while class 3 is false in this example since the true probabilties for class 1 and class 2 are close to 1 whereas it is close to 0 for class 3"
      ]
    }
  ]
}