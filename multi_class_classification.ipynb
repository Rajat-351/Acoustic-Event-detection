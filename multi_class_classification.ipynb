{
  "nbformat": 4,
  "nbformat_minor": 0,
  "metadata": {
    "colab": {
      "name": "mnist-multi-class.ipynb",
      "provenance": [],
      "collapsed_sections": []
    },
    "kernelspec": {
      "name": "python3",
      "display_name": "Python 3"
    },
    "language_info": {
      "name": "python"
    },
    "widgets": {
      "application/vnd.jupyter.widget-state+json": {
        "0d735910667647539d6a4dba0658f8bc": {
          "model_module": "@jupyter-widgets/controls",
          "model_name": "HBoxModel",
          "model_module_version": "1.5.0",
          "state": {
            "_view_name": "HBoxView",
            "_dom_classes": [],
            "_model_name": "HBoxModel",
            "_view_module": "@jupyter-widgets/controls",
            "_model_module_version": "1.5.0",
            "_view_count": null,
            "_view_module_version": "1.5.0",
            "box_style": "",
            "layout": "IPY_MODEL_df98923625d94da99639cf5275ff1af6",
            "_model_module": "@jupyter-widgets/controls",
            "children": [
              "IPY_MODEL_ae56fa8b972643a0a0eedc29a1bf4598",
              "IPY_MODEL_0ba541382a4041af81a07df8f4a83e5e",
              "IPY_MODEL_024f6a4ccfec434b9201bd60e5befd59"
            ]
          }
        },
        "df98923625d94da99639cf5275ff1af6": {
          "model_module": "@jupyter-widgets/base",
          "model_name": "LayoutModel",
          "model_module_version": "1.2.0",
          "state": {
            "_view_name": "LayoutView",
            "grid_template_rows": null,
            "right": null,
            "justify_content": null,
            "_view_module": "@jupyter-widgets/base",
            "overflow": null,
            "_model_module_version": "1.2.0",
            "_view_count": null,
            "flex_flow": null,
            "width": null,
            "min_width": null,
            "border": null,
            "align_items": null,
            "bottom": null,
            "_model_module": "@jupyter-widgets/base",
            "top": null,
            "grid_column": null,
            "overflow_y": null,
            "overflow_x": null,
            "grid_auto_flow": null,
            "grid_area": null,
            "grid_template_columns": null,
            "flex": null,
            "_model_name": "LayoutModel",
            "justify_items": null,
            "grid_row": null,
            "max_height": null,
            "align_content": null,
            "visibility": null,
            "align_self": null,
            "height": null,
            "min_height": null,
            "padding": null,
            "grid_auto_rows": null,
            "grid_gap": null,
            "max_width": null,
            "order": null,
            "_view_module_version": "1.2.0",
            "grid_template_areas": null,
            "object_position": null,
            "object_fit": null,
            "grid_auto_columns": null,
            "margin": null,
            "display": null,
            "left": null
          }
        },
        "ae56fa8b972643a0a0eedc29a1bf4598": {
          "model_module": "@jupyter-widgets/controls",
          "model_name": "HTMLModel",
          "model_module_version": "1.5.0",
          "state": {
            "_view_name": "HTMLView",
            "style": "IPY_MODEL_17ca3863ce964d50bab5b4bd1a2e4b94",
            "_dom_classes": [],
            "description": "",
            "_model_name": "HTMLModel",
            "placeholder": "​",
            "_view_module": "@jupyter-widgets/controls",
            "_model_module_version": "1.5.0",
            "value": "",
            "_view_count": null,
            "_view_module_version": "1.5.0",
            "description_tooltip": null,
            "_model_module": "@jupyter-widgets/controls",
            "layout": "IPY_MODEL_f4c2880233cc4ec4859f4ad27e7facdf"
          }
        },
        "0ba541382a4041af81a07df8f4a83e5e": {
          "model_module": "@jupyter-widgets/controls",
          "model_name": "FloatProgressModel",
          "model_module_version": "1.5.0",
          "state": {
            "_view_name": "ProgressView",
            "style": "IPY_MODEL_fad2dc483efb4db4940aa618a9d87bca",
            "_dom_classes": [],
            "description": "",
            "_model_name": "FloatProgressModel",
            "bar_style": "success",
            "max": 9912422,
            "_view_module": "@jupyter-widgets/controls",
            "_model_module_version": "1.5.0",
            "value": 9912422,
            "_view_count": null,
            "_view_module_version": "1.5.0",
            "orientation": "horizontal",
            "min": 0,
            "description_tooltip": null,
            "_model_module": "@jupyter-widgets/controls",
            "layout": "IPY_MODEL_9c2ec4f6977244d78ebc2e6af2a91b13"
          }
        },
        "024f6a4ccfec434b9201bd60e5befd59": {
          "model_module": "@jupyter-widgets/controls",
          "model_name": "HTMLModel",
          "model_module_version": "1.5.0",
          "state": {
            "_view_name": "HTMLView",
            "style": "IPY_MODEL_e16bff6a478b4fc887248921ad3626cb",
            "_dom_classes": [],
            "description": "",
            "_model_name": "HTMLModel",
            "placeholder": "​",
            "_view_module": "@jupyter-widgets/controls",
            "_model_module_version": "1.5.0",
            "value": " 9913344/? [00:00&lt;00:00, 54459457.41it/s]",
            "_view_count": null,
            "_view_module_version": "1.5.0",
            "description_tooltip": null,
            "_model_module": "@jupyter-widgets/controls",
            "layout": "IPY_MODEL_f8e2e5fc11e447c8af0644cf2582a0ba"
          }
        },
        "17ca3863ce964d50bab5b4bd1a2e4b94": {
          "model_module": "@jupyter-widgets/controls",
          "model_name": "DescriptionStyleModel",
          "model_module_version": "1.5.0",
          "state": {
            "_view_name": "StyleView",
            "_model_name": "DescriptionStyleModel",
            "description_width": "",
            "_view_module": "@jupyter-widgets/base",
            "_model_module_version": "1.5.0",
            "_view_count": null,
            "_view_module_version": "1.2.0",
            "_model_module": "@jupyter-widgets/controls"
          }
        },
        "f4c2880233cc4ec4859f4ad27e7facdf": {
          "model_module": "@jupyter-widgets/base",
          "model_name": "LayoutModel",
          "model_module_version": "1.2.0",
          "state": {
            "_view_name": "LayoutView",
            "grid_template_rows": null,
            "right": null,
            "justify_content": null,
            "_view_module": "@jupyter-widgets/base",
            "overflow": null,
            "_model_module_version": "1.2.0",
            "_view_count": null,
            "flex_flow": null,
            "width": null,
            "min_width": null,
            "border": null,
            "align_items": null,
            "bottom": null,
            "_model_module": "@jupyter-widgets/base",
            "top": null,
            "grid_column": null,
            "overflow_y": null,
            "overflow_x": null,
            "grid_auto_flow": null,
            "grid_area": null,
            "grid_template_columns": null,
            "flex": null,
            "_model_name": "LayoutModel",
            "justify_items": null,
            "grid_row": null,
            "max_height": null,
            "align_content": null,
            "visibility": null,
            "align_self": null,
            "height": null,
            "min_height": null,
            "padding": null,
            "grid_auto_rows": null,
            "grid_gap": null,
            "max_width": null,
            "order": null,
            "_view_module_version": "1.2.0",
            "grid_template_areas": null,
            "object_position": null,
            "object_fit": null,
            "grid_auto_columns": null,
            "margin": null,
            "display": null,
            "left": null
          }
        },
        "fad2dc483efb4db4940aa618a9d87bca": {
          "model_module": "@jupyter-widgets/controls",
          "model_name": "ProgressStyleModel",
          "model_module_version": "1.5.0",
          "state": {
            "_view_name": "StyleView",
            "_model_name": "ProgressStyleModel",
            "description_width": "",
            "_view_module": "@jupyter-widgets/base",
            "_model_module_version": "1.5.0",
            "_view_count": null,
            "_view_module_version": "1.2.0",
            "bar_color": null,
            "_model_module": "@jupyter-widgets/controls"
          }
        },
        "9c2ec4f6977244d78ebc2e6af2a91b13": {
          "model_module": "@jupyter-widgets/base",
          "model_name": "LayoutModel",
          "model_module_version": "1.2.0",
          "state": {
            "_view_name": "LayoutView",
            "grid_template_rows": null,
            "right": null,
            "justify_content": null,
            "_view_module": "@jupyter-widgets/base",
            "overflow": null,
            "_model_module_version": "1.2.0",
            "_view_count": null,
            "flex_flow": null,
            "width": null,
            "min_width": null,
            "border": null,
            "align_items": null,
            "bottom": null,
            "_model_module": "@jupyter-widgets/base",
            "top": null,
            "grid_column": null,
            "overflow_y": null,
            "overflow_x": null,
            "grid_auto_flow": null,
            "grid_area": null,
            "grid_template_columns": null,
            "flex": null,
            "_model_name": "LayoutModel",
            "justify_items": null,
            "grid_row": null,
            "max_height": null,
            "align_content": null,
            "visibility": null,
            "align_self": null,
            "height": null,
            "min_height": null,
            "padding": null,
            "grid_auto_rows": null,
            "grid_gap": null,
            "max_width": null,
            "order": null,
            "_view_module_version": "1.2.0",
            "grid_template_areas": null,
            "object_position": null,
            "object_fit": null,
            "grid_auto_columns": null,
            "margin": null,
            "display": null,
            "left": null
          }
        },
        "e16bff6a478b4fc887248921ad3626cb": {
          "model_module": "@jupyter-widgets/controls",
          "model_name": "DescriptionStyleModel",
          "model_module_version": "1.5.0",
          "state": {
            "_view_name": "StyleView",
            "_model_name": "DescriptionStyleModel",
            "description_width": "",
            "_view_module": "@jupyter-widgets/base",
            "_model_module_version": "1.5.0",
            "_view_count": null,
            "_view_module_version": "1.2.0",
            "_model_module": "@jupyter-widgets/controls"
          }
        },
        "f8e2e5fc11e447c8af0644cf2582a0ba": {
          "model_module": "@jupyter-widgets/base",
          "model_name": "LayoutModel",
          "model_module_version": "1.2.0",
          "state": {
            "_view_name": "LayoutView",
            "grid_template_rows": null,
            "right": null,
            "justify_content": null,
            "_view_module": "@jupyter-widgets/base",
            "overflow": null,
            "_model_module_version": "1.2.0",
            "_view_count": null,
            "flex_flow": null,
            "width": null,
            "min_width": null,
            "border": null,
            "align_items": null,
            "bottom": null,
            "_model_module": "@jupyter-widgets/base",
            "top": null,
            "grid_column": null,
            "overflow_y": null,
            "overflow_x": null,
            "grid_auto_flow": null,
            "grid_area": null,
            "grid_template_columns": null,
            "flex": null,
            "_model_name": "LayoutModel",
            "justify_items": null,
            "grid_row": null,
            "max_height": null,
            "align_content": null,
            "visibility": null,
            "align_self": null,
            "height": null,
            "min_height": null,
            "padding": null,
            "grid_auto_rows": null,
            "grid_gap": null,
            "max_width": null,
            "order": null,
            "_view_module_version": "1.2.0",
            "grid_template_areas": null,
            "object_position": null,
            "object_fit": null,
            "grid_auto_columns": null,
            "margin": null,
            "display": null,
            "left": null
          }
        },
        "1640dd03cd8f47aaa3b69ca53262c690": {
          "model_module": "@jupyter-widgets/controls",
          "model_name": "HBoxModel",
          "model_module_version": "1.5.0",
          "state": {
            "_view_name": "HBoxView",
            "_dom_classes": [],
            "_model_name": "HBoxModel",
            "_view_module": "@jupyter-widgets/controls",
            "_model_module_version": "1.5.0",
            "_view_count": null,
            "_view_module_version": "1.5.0",
            "box_style": "",
            "layout": "IPY_MODEL_863caef971e74fd6b2cd094720262c9b",
            "_model_module": "@jupyter-widgets/controls",
            "children": [
              "IPY_MODEL_1c729f096f6947c1af5fc669d5d3d0fe",
              "IPY_MODEL_e45000e4d7b6466b9ee94340d64a3e72",
              "IPY_MODEL_e6db95d06146431287840308ec1af086"
            ]
          }
        },
        "863caef971e74fd6b2cd094720262c9b": {
          "model_module": "@jupyter-widgets/base",
          "model_name": "LayoutModel",
          "model_module_version": "1.2.0",
          "state": {
            "_view_name": "LayoutView",
            "grid_template_rows": null,
            "right": null,
            "justify_content": null,
            "_view_module": "@jupyter-widgets/base",
            "overflow": null,
            "_model_module_version": "1.2.0",
            "_view_count": null,
            "flex_flow": null,
            "width": null,
            "min_width": null,
            "border": null,
            "align_items": null,
            "bottom": null,
            "_model_module": "@jupyter-widgets/base",
            "top": null,
            "grid_column": null,
            "overflow_y": null,
            "overflow_x": null,
            "grid_auto_flow": null,
            "grid_area": null,
            "grid_template_columns": null,
            "flex": null,
            "_model_name": "LayoutModel",
            "justify_items": null,
            "grid_row": null,
            "max_height": null,
            "align_content": null,
            "visibility": null,
            "align_self": null,
            "height": null,
            "min_height": null,
            "padding": null,
            "grid_auto_rows": null,
            "grid_gap": null,
            "max_width": null,
            "order": null,
            "_view_module_version": "1.2.0",
            "grid_template_areas": null,
            "object_position": null,
            "object_fit": null,
            "grid_auto_columns": null,
            "margin": null,
            "display": null,
            "left": null
          }
        },
        "1c729f096f6947c1af5fc669d5d3d0fe": {
          "model_module": "@jupyter-widgets/controls",
          "model_name": "HTMLModel",
          "model_module_version": "1.5.0",
          "state": {
            "_view_name": "HTMLView",
            "style": "IPY_MODEL_db6fa9bde60246a386c98f3a5e75ec7c",
            "_dom_classes": [],
            "description": "",
            "_model_name": "HTMLModel",
            "placeholder": "​",
            "_view_module": "@jupyter-widgets/controls",
            "_model_module_version": "1.5.0",
            "value": "",
            "_view_count": null,
            "_view_module_version": "1.5.0",
            "description_tooltip": null,
            "_model_module": "@jupyter-widgets/controls",
            "layout": "IPY_MODEL_5b8f80a117b14599a3c2d69573081bd9"
          }
        },
        "e45000e4d7b6466b9ee94340d64a3e72": {
          "model_module": "@jupyter-widgets/controls",
          "model_name": "FloatProgressModel",
          "model_module_version": "1.5.0",
          "state": {
            "_view_name": "ProgressView",
            "style": "IPY_MODEL_d43e0df3bbb44edab0bab2a5f91c33a7",
            "_dom_classes": [],
            "description": "",
            "_model_name": "FloatProgressModel",
            "bar_style": "success",
            "max": 28881,
            "_view_module": "@jupyter-widgets/controls",
            "_model_module_version": "1.5.0",
            "value": 28881,
            "_view_count": null,
            "_view_module_version": "1.5.0",
            "orientation": "horizontal",
            "min": 0,
            "description_tooltip": null,
            "_model_module": "@jupyter-widgets/controls",
            "layout": "IPY_MODEL_5ad8029bef1544fe867c85db838785b7"
          }
        },
        "e6db95d06146431287840308ec1af086": {
          "model_module": "@jupyter-widgets/controls",
          "model_name": "HTMLModel",
          "model_module_version": "1.5.0",
          "state": {
            "_view_name": "HTMLView",
            "style": "IPY_MODEL_9a5a5016484d4f648ab5e18b0066e4a2",
            "_dom_classes": [],
            "description": "",
            "_model_name": "HTMLModel",
            "placeholder": "​",
            "_view_module": "@jupyter-widgets/controls",
            "_model_module_version": "1.5.0",
            "value": " 29696/? [00:00&lt;00:00, 510239.49it/s]",
            "_view_count": null,
            "_view_module_version": "1.5.0",
            "description_tooltip": null,
            "_model_module": "@jupyter-widgets/controls",
            "layout": "IPY_MODEL_e44423fcc8d84ac4bfcf32cfea88e81a"
          }
        },
        "db6fa9bde60246a386c98f3a5e75ec7c": {
          "model_module": "@jupyter-widgets/controls",
          "model_name": "DescriptionStyleModel",
          "model_module_version": "1.5.0",
          "state": {
            "_view_name": "StyleView",
            "_model_name": "DescriptionStyleModel",
            "description_width": "",
            "_view_module": "@jupyter-widgets/base",
            "_model_module_version": "1.5.0",
            "_view_count": null,
            "_view_module_version": "1.2.0",
            "_model_module": "@jupyter-widgets/controls"
          }
        },
        "5b8f80a117b14599a3c2d69573081bd9": {
          "model_module": "@jupyter-widgets/base",
          "model_name": "LayoutModel",
          "model_module_version": "1.2.0",
          "state": {
            "_view_name": "LayoutView",
            "grid_template_rows": null,
            "right": null,
            "justify_content": null,
            "_view_module": "@jupyter-widgets/base",
            "overflow": null,
            "_model_module_version": "1.2.0",
            "_view_count": null,
            "flex_flow": null,
            "width": null,
            "min_width": null,
            "border": null,
            "align_items": null,
            "bottom": null,
            "_model_module": "@jupyter-widgets/base",
            "top": null,
            "grid_column": null,
            "overflow_y": null,
            "overflow_x": null,
            "grid_auto_flow": null,
            "grid_area": null,
            "grid_template_columns": null,
            "flex": null,
            "_model_name": "LayoutModel",
            "justify_items": null,
            "grid_row": null,
            "max_height": null,
            "align_content": null,
            "visibility": null,
            "align_self": null,
            "height": null,
            "min_height": null,
            "padding": null,
            "grid_auto_rows": null,
            "grid_gap": null,
            "max_width": null,
            "order": null,
            "_view_module_version": "1.2.0",
            "grid_template_areas": null,
            "object_position": null,
            "object_fit": null,
            "grid_auto_columns": null,
            "margin": null,
            "display": null,
            "left": null
          }
        },
        "d43e0df3bbb44edab0bab2a5f91c33a7": {
          "model_module": "@jupyter-widgets/controls",
          "model_name": "ProgressStyleModel",
          "model_module_version": "1.5.0",
          "state": {
            "_view_name": "StyleView",
            "_model_name": "ProgressStyleModel",
            "description_width": "",
            "_view_module": "@jupyter-widgets/base",
            "_model_module_version": "1.5.0",
            "_view_count": null,
            "_view_module_version": "1.2.0",
            "bar_color": null,
            "_model_module": "@jupyter-widgets/controls"
          }
        },
        "5ad8029bef1544fe867c85db838785b7": {
          "model_module": "@jupyter-widgets/base",
          "model_name": "LayoutModel",
          "model_module_version": "1.2.0",
          "state": {
            "_view_name": "LayoutView",
            "grid_template_rows": null,
            "right": null,
            "justify_content": null,
            "_view_module": "@jupyter-widgets/base",
            "overflow": null,
            "_model_module_version": "1.2.0",
            "_view_count": null,
            "flex_flow": null,
            "width": null,
            "min_width": null,
            "border": null,
            "align_items": null,
            "bottom": null,
            "_model_module": "@jupyter-widgets/base",
            "top": null,
            "grid_column": null,
            "overflow_y": null,
            "overflow_x": null,
            "grid_auto_flow": null,
            "grid_area": null,
            "grid_template_columns": null,
            "flex": null,
            "_model_name": "LayoutModel",
            "justify_items": null,
            "grid_row": null,
            "max_height": null,
            "align_content": null,
            "visibility": null,
            "align_self": null,
            "height": null,
            "min_height": null,
            "padding": null,
            "grid_auto_rows": null,
            "grid_gap": null,
            "max_width": null,
            "order": null,
            "_view_module_version": "1.2.0",
            "grid_template_areas": null,
            "object_position": null,
            "object_fit": null,
            "grid_auto_columns": null,
            "margin": null,
            "display": null,
            "left": null
          }
        },
        "9a5a5016484d4f648ab5e18b0066e4a2": {
          "model_module": "@jupyter-widgets/controls",
          "model_name": "DescriptionStyleModel",
          "model_module_version": "1.5.0",
          "state": {
            "_view_name": "StyleView",
            "_model_name": "DescriptionStyleModel",
            "description_width": "",
            "_view_module": "@jupyter-widgets/base",
            "_model_module_version": "1.5.0",
            "_view_count": null,
            "_view_module_version": "1.2.0",
            "_model_module": "@jupyter-widgets/controls"
          }
        },
        "e44423fcc8d84ac4bfcf32cfea88e81a": {
          "model_module": "@jupyter-widgets/base",
          "model_name": "LayoutModel",
          "model_module_version": "1.2.0",
          "state": {
            "_view_name": "LayoutView",
            "grid_template_rows": null,
            "right": null,
            "justify_content": null,
            "_view_module": "@jupyter-widgets/base",
            "overflow": null,
            "_model_module_version": "1.2.0",
            "_view_count": null,
            "flex_flow": null,
            "width": null,
            "min_width": null,
            "border": null,
            "align_items": null,
            "bottom": null,
            "_model_module": "@jupyter-widgets/base",
            "top": null,
            "grid_column": null,
            "overflow_y": null,
            "overflow_x": null,
            "grid_auto_flow": null,
            "grid_area": null,
            "grid_template_columns": null,
            "flex": null,
            "_model_name": "LayoutModel",
            "justify_items": null,
            "grid_row": null,
            "max_height": null,
            "align_content": null,
            "visibility": null,
            "align_self": null,
            "height": null,
            "min_height": null,
            "padding": null,
            "grid_auto_rows": null,
            "grid_gap": null,
            "max_width": null,
            "order": null,
            "_view_module_version": "1.2.0",
            "grid_template_areas": null,
            "object_position": null,
            "object_fit": null,
            "grid_auto_columns": null,
            "margin": null,
            "display": null,
            "left": null
          }
        },
        "6b3abab474af4fd19ac173d7c5e3cf84": {
          "model_module": "@jupyter-widgets/controls",
          "model_name": "HBoxModel",
          "model_module_version": "1.5.0",
          "state": {
            "_view_name": "HBoxView",
            "_dom_classes": [],
            "_model_name": "HBoxModel",
            "_view_module": "@jupyter-widgets/controls",
            "_model_module_version": "1.5.0",
            "_view_count": null,
            "_view_module_version": "1.5.0",
            "box_style": "",
            "layout": "IPY_MODEL_ad60de2c411143a7934f0502fdf3fffe",
            "_model_module": "@jupyter-widgets/controls",
            "children": [
              "IPY_MODEL_fffdc8fc60f24c8ba8095c0e843ea2f4",
              "IPY_MODEL_c6671ba183bf4b6194cb0c0d7d2598ac",
              "IPY_MODEL_c34173bff3e6454cba8846771f0c2ff0"
            ]
          }
        },
        "ad60de2c411143a7934f0502fdf3fffe": {
          "model_module": "@jupyter-widgets/base",
          "model_name": "LayoutModel",
          "model_module_version": "1.2.0",
          "state": {
            "_view_name": "LayoutView",
            "grid_template_rows": null,
            "right": null,
            "justify_content": null,
            "_view_module": "@jupyter-widgets/base",
            "overflow": null,
            "_model_module_version": "1.2.0",
            "_view_count": null,
            "flex_flow": null,
            "width": null,
            "min_width": null,
            "border": null,
            "align_items": null,
            "bottom": null,
            "_model_module": "@jupyter-widgets/base",
            "top": null,
            "grid_column": null,
            "overflow_y": null,
            "overflow_x": null,
            "grid_auto_flow": null,
            "grid_area": null,
            "grid_template_columns": null,
            "flex": null,
            "_model_name": "LayoutModel",
            "justify_items": null,
            "grid_row": null,
            "max_height": null,
            "align_content": null,
            "visibility": null,
            "align_self": null,
            "height": null,
            "min_height": null,
            "padding": null,
            "grid_auto_rows": null,
            "grid_gap": null,
            "max_width": null,
            "order": null,
            "_view_module_version": "1.2.0",
            "grid_template_areas": null,
            "object_position": null,
            "object_fit": null,
            "grid_auto_columns": null,
            "margin": null,
            "display": null,
            "left": null
          }
        },
        "fffdc8fc60f24c8ba8095c0e843ea2f4": {
          "model_module": "@jupyter-widgets/controls",
          "model_name": "HTMLModel",
          "model_module_version": "1.5.0",
          "state": {
            "_view_name": "HTMLView",
            "style": "IPY_MODEL_9c1060cedda340d8a18ff536952b0166",
            "_dom_classes": [],
            "description": "",
            "_model_name": "HTMLModel",
            "placeholder": "​",
            "_view_module": "@jupyter-widgets/controls",
            "_model_module_version": "1.5.0",
            "value": "",
            "_view_count": null,
            "_view_module_version": "1.5.0",
            "description_tooltip": null,
            "_model_module": "@jupyter-widgets/controls",
            "layout": "IPY_MODEL_119491a069b145fc8a6f8772b2433450"
          }
        },
        "c6671ba183bf4b6194cb0c0d7d2598ac": {
          "model_module": "@jupyter-widgets/controls",
          "model_name": "FloatProgressModel",
          "model_module_version": "1.5.0",
          "state": {
            "_view_name": "ProgressView",
            "style": "IPY_MODEL_c6a1ac6721174f82bd49bea1c73dab99",
            "_dom_classes": [],
            "description": "",
            "_model_name": "FloatProgressModel",
            "bar_style": "success",
            "max": 1648877,
            "_view_module": "@jupyter-widgets/controls",
            "_model_module_version": "1.5.0",
            "value": 1648877,
            "_view_count": null,
            "_view_module_version": "1.5.0",
            "orientation": "horizontal",
            "min": 0,
            "description_tooltip": null,
            "_model_module": "@jupyter-widgets/controls",
            "layout": "IPY_MODEL_9bb38ef91d414485a1dfeb699bbf25b2"
          }
        },
        "c34173bff3e6454cba8846771f0c2ff0": {
          "model_module": "@jupyter-widgets/controls",
          "model_name": "HTMLModel",
          "model_module_version": "1.5.0",
          "state": {
            "_view_name": "HTMLView",
            "style": "IPY_MODEL_b79aecc224b745c1a02a55c5a0ecb760",
            "_dom_classes": [],
            "description": "",
            "_model_name": "HTMLModel",
            "placeholder": "​",
            "_view_module": "@jupyter-widgets/controls",
            "_model_module_version": "1.5.0",
            "value": " 1649664/? [00:00&lt;00:00, 15059499.80it/s]",
            "_view_count": null,
            "_view_module_version": "1.5.0",
            "description_tooltip": null,
            "_model_module": "@jupyter-widgets/controls",
            "layout": "IPY_MODEL_4fcee3774fca4b87ada5c6cd14ce3f12"
          }
        },
        "9c1060cedda340d8a18ff536952b0166": {
          "model_module": "@jupyter-widgets/controls",
          "model_name": "DescriptionStyleModel",
          "model_module_version": "1.5.0",
          "state": {
            "_view_name": "StyleView",
            "_model_name": "DescriptionStyleModel",
            "description_width": "",
            "_view_module": "@jupyter-widgets/base",
            "_model_module_version": "1.5.0",
            "_view_count": null,
            "_view_module_version": "1.2.0",
            "_model_module": "@jupyter-widgets/controls"
          }
        },
        "119491a069b145fc8a6f8772b2433450": {
          "model_module": "@jupyter-widgets/base",
          "model_name": "LayoutModel",
          "model_module_version": "1.2.0",
          "state": {
            "_view_name": "LayoutView",
            "grid_template_rows": null,
            "right": null,
            "justify_content": null,
            "_view_module": "@jupyter-widgets/base",
            "overflow": null,
            "_model_module_version": "1.2.0",
            "_view_count": null,
            "flex_flow": null,
            "width": null,
            "min_width": null,
            "border": null,
            "align_items": null,
            "bottom": null,
            "_model_module": "@jupyter-widgets/base",
            "top": null,
            "grid_column": null,
            "overflow_y": null,
            "overflow_x": null,
            "grid_auto_flow": null,
            "grid_area": null,
            "grid_template_columns": null,
            "flex": null,
            "_model_name": "LayoutModel",
            "justify_items": null,
            "grid_row": null,
            "max_height": null,
            "align_content": null,
            "visibility": null,
            "align_self": null,
            "height": null,
            "min_height": null,
            "padding": null,
            "grid_auto_rows": null,
            "grid_gap": null,
            "max_width": null,
            "order": null,
            "_view_module_version": "1.2.0",
            "grid_template_areas": null,
            "object_position": null,
            "object_fit": null,
            "grid_auto_columns": null,
            "margin": null,
            "display": null,
            "left": null
          }
        },
        "c6a1ac6721174f82bd49bea1c73dab99": {
          "model_module": "@jupyter-widgets/controls",
          "model_name": "ProgressStyleModel",
          "model_module_version": "1.5.0",
          "state": {
            "_view_name": "StyleView",
            "_model_name": "ProgressStyleModel",
            "description_width": "",
            "_view_module": "@jupyter-widgets/base",
            "_model_module_version": "1.5.0",
            "_view_count": null,
            "_view_module_version": "1.2.0",
            "bar_color": null,
            "_model_module": "@jupyter-widgets/controls"
          }
        },
        "9bb38ef91d414485a1dfeb699bbf25b2": {
          "model_module": "@jupyter-widgets/base",
          "model_name": "LayoutModel",
          "model_module_version": "1.2.0",
          "state": {
            "_view_name": "LayoutView",
            "grid_template_rows": null,
            "right": null,
            "justify_content": null,
            "_view_module": "@jupyter-widgets/base",
            "overflow": null,
            "_model_module_version": "1.2.0",
            "_view_count": null,
            "flex_flow": null,
            "width": null,
            "min_width": null,
            "border": null,
            "align_items": null,
            "bottom": null,
            "_model_module": "@jupyter-widgets/base",
            "top": null,
            "grid_column": null,
            "overflow_y": null,
            "overflow_x": null,
            "grid_auto_flow": null,
            "grid_area": null,
            "grid_template_columns": null,
            "flex": null,
            "_model_name": "LayoutModel",
            "justify_items": null,
            "grid_row": null,
            "max_height": null,
            "align_content": null,
            "visibility": null,
            "align_self": null,
            "height": null,
            "min_height": null,
            "padding": null,
            "grid_auto_rows": null,
            "grid_gap": null,
            "max_width": null,
            "order": null,
            "_view_module_version": "1.2.0",
            "grid_template_areas": null,
            "object_position": null,
            "object_fit": null,
            "grid_auto_columns": null,
            "margin": null,
            "display": null,
            "left": null
          }
        },
        "b79aecc224b745c1a02a55c5a0ecb760": {
          "model_module": "@jupyter-widgets/controls",
          "model_name": "DescriptionStyleModel",
          "model_module_version": "1.5.0",
          "state": {
            "_view_name": "StyleView",
            "_model_name": "DescriptionStyleModel",
            "description_width": "",
            "_view_module": "@jupyter-widgets/base",
            "_model_module_version": "1.5.0",
            "_view_count": null,
            "_view_module_version": "1.2.0",
            "_model_module": "@jupyter-widgets/controls"
          }
        },
        "4fcee3774fca4b87ada5c6cd14ce3f12": {
          "model_module": "@jupyter-widgets/base",
          "model_name": "LayoutModel",
          "model_module_version": "1.2.0",
          "state": {
            "_view_name": "LayoutView",
            "grid_template_rows": null,
            "right": null,
            "justify_content": null,
            "_view_module": "@jupyter-widgets/base",
            "overflow": null,
            "_model_module_version": "1.2.0",
            "_view_count": null,
            "flex_flow": null,
            "width": null,
            "min_width": null,
            "border": null,
            "align_items": null,
            "bottom": null,
            "_model_module": "@jupyter-widgets/base",
            "top": null,
            "grid_column": null,
            "overflow_y": null,
            "overflow_x": null,
            "grid_auto_flow": null,
            "grid_area": null,
            "grid_template_columns": null,
            "flex": null,
            "_model_name": "LayoutModel",
            "justify_items": null,
            "grid_row": null,
            "max_height": null,
            "align_content": null,
            "visibility": null,
            "align_self": null,
            "height": null,
            "min_height": null,
            "padding": null,
            "grid_auto_rows": null,
            "grid_gap": null,
            "max_width": null,
            "order": null,
            "_view_module_version": "1.2.0",
            "grid_template_areas": null,
            "object_position": null,
            "object_fit": null,
            "grid_auto_columns": null,
            "margin": null,
            "display": null,
            "left": null
          }
        },
        "a042b6ae8d7f4b79bd0a49985de05a9a": {
          "model_module": "@jupyter-widgets/controls",
          "model_name": "HBoxModel",
          "model_module_version": "1.5.0",
          "state": {
            "_view_name": "HBoxView",
            "_dom_classes": [],
            "_model_name": "HBoxModel",
            "_view_module": "@jupyter-widgets/controls",
            "_model_module_version": "1.5.0",
            "_view_count": null,
            "_view_module_version": "1.5.0",
            "box_style": "",
            "layout": "IPY_MODEL_39ea426bc6c64da8b3e1dad4e3294beb",
            "_model_module": "@jupyter-widgets/controls",
            "children": [
              "IPY_MODEL_7229298fc43644c1849829ed317e89c5",
              "IPY_MODEL_83e587ad240a46c8bd6470bef5d2b4df",
              "IPY_MODEL_130ed0b1149c496685c996ca14ffa5b6"
            ]
          }
        },
        "39ea426bc6c64da8b3e1dad4e3294beb": {
          "model_module": "@jupyter-widgets/base",
          "model_name": "LayoutModel",
          "model_module_version": "1.2.0",
          "state": {
            "_view_name": "LayoutView",
            "grid_template_rows": null,
            "right": null,
            "justify_content": null,
            "_view_module": "@jupyter-widgets/base",
            "overflow": null,
            "_model_module_version": "1.2.0",
            "_view_count": null,
            "flex_flow": null,
            "width": null,
            "min_width": null,
            "border": null,
            "align_items": null,
            "bottom": null,
            "_model_module": "@jupyter-widgets/base",
            "top": null,
            "grid_column": null,
            "overflow_y": null,
            "overflow_x": null,
            "grid_auto_flow": null,
            "grid_area": null,
            "grid_template_columns": null,
            "flex": null,
            "_model_name": "LayoutModel",
            "justify_items": null,
            "grid_row": null,
            "max_height": null,
            "align_content": null,
            "visibility": null,
            "align_self": null,
            "height": null,
            "min_height": null,
            "padding": null,
            "grid_auto_rows": null,
            "grid_gap": null,
            "max_width": null,
            "order": null,
            "_view_module_version": "1.2.0",
            "grid_template_areas": null,
            "object_position": null,
            "object_fit": null,
            "grid_auto_columns": null,
            "margin": null,
            "display": null,
            "left": null
          }
        },
        "7229298fc43644c1849829ed317e89c5": {
          "model_module": "@jupyter-widgets/controls",
          "model_name": "HTMLModel",
          "model_module_version": "1.5.0",
          "state": {
            "_view_name": "HTMLView",
            "style": "IPY_MODEL_ba7a69aa0b3f448b9d3f2dc9d8715908",
            "_dom_classes": [],
            "description": "",
            "_model_name": "HTMLModel",
            "placeholder": "​",
            "_view_module": "@jupyter-widgets/controls",
            "_model_module_version": "1.5.0",
            "value": "",
            "_view_count": null,
            "_view_module_version": "1.5.0",
            "description_tooltip": null,
            "_model_module": "@jupyter-widgets/controls",
            "layout": "IPY_MODEL_2f51c5014dfb4447bbdf45c16c6ed85d"
          }
        },
        "83e587ad240a46c8bd6470bef5d2b4df": {
          "model_module": "@jupyter-widgets/controls",
          "model_name": "FloatProgressModel",
          "model_module_version": "1.5.0",
          "state": {
            "_view_name": "ProgressView",
            "style": "IPY_MODEL_472d8d8e07a54e088dfccd677fc204e7",
            "_dom_classes": [],
            "description": "",
            "_model_name": "FloatProgressModel",
            "bar_style": "success",
            "max": 4542,
            "_view_module": "@jupyter-widgets/controls",
            "_model_module_version": "1.5.0",
            "value": 4542,
            "_view_count": null,
            "_view_module_version": "1.5.0",
            "orientation": "horizontal",
            "min": 0,
            "description_tooltip": null,
            "_model_module": "@jupyter-widgets/controls",
            "layout": "IPY_MODEL_7eb259d63e50439899e85368d6f6eb78"
          }
        },
        "130ed0b1149c496685c996ca14ffa5b6": {
          "model_module": "@jupyter-widgets/controls",
          "model_name": "HTMLModel",
          "model_module_version": "1.5.0",
          "state": {
            "_view_name": "HTMLView",
            "style": "IPY_MODEL_66617d1c691b43dfbf93f241ee0c5131",
            "_dom_classes": [],
            "description": "",
            "_model_name": "HTMLModel",
            "placeholder": "​",
            "_view_module": "@jupyter-widgets/controls",
            "_model_module_version": "1.5.0",
            "value": " 5120/? [00:00&lt;00:00, 142159.09it/s]",
            "_view_count": null,
            "_view_module_version": "1.5.0",
            "description_tooltip": null,
            "_model_module": "@jupyter-widgets/controls",
            "layout": "IPY_MODEL_a4a89ff06087442799e04a3258ec927d"
          }
        },
        "ba7a69aa0b3f448b9d3f2dc9d8715908": {
          "model_module": "@jupyter-widgets/controls",
          "model_name": "DescriptionStyleModel",
          "model_module_version": "1.5.0",
          "state": {
            "_view_name": "StyleView",
            "_model_name": "DescriptionStyleModel",
            "description_width": "",
            "_view_module": "@jupyter-widgets/base",
            "_model_module_version": "1.5.0",
            "_view_count": null,
            "_view_module_version": "1.2.0",
            "_model_module": "@jupyter-widgets/controls"
          }
        },
        "2f51c5014dfb4447bbdf45c16c6ed85d": {
          "model_module": "@jupyter-widgets/base",
          "model_name": "LayoutModel",
          "model_module_version": "1.2.0",
          "state": {
            "_view_name": "LayoutView",
            "grid_template_rows": null,
            "right": null,
            "justify_content": null,
            "_view_module": "@jupyter-widgets/base",
            "overflow": null,
            "_model_module_version": "1.2.0",
            "_view_count": null,
            "flex_flow": null,
            "width": null,
            "min_width": null,
            "border": null,
            "align_items": null,
            "bottom": null,
            "_model_module": "@jupyter-widgets/base",
            "top": null,
            "grid_column": null,
            "overflow_y": null,
            "overflow_x": null,
            "grid_auto_flow": null,
            "grid_area": null,
            "grid_template_columns": null,
            "flex": null,
            "_model_name": "LayoutModel",
            "justify_items": null,
            "grid_row": null,
            "max_height": null,
            "align_content": null,
            "visibility": null,
            "align_self": null,
            "height": null,
            "min_height": null,
            "padding": null,
            "grid_auto_rows": null,
            "grid_gap": null,
            "max_width": null,
            "order": null,
            "_view_module_version": "1.2.0",
            "grid_template_areas": null,
            "object_position": null,
            "object_fit": null,
            "grid_auto_columns": null,
            "margin": null,
            "display": null,
            "left": null
          }
        },
        "472d8d8e07a54e088dfccd677fc204e7": {
          "model_module": "@jupyter-widgets/controls",
          "model_name": "ProgressStyleModel",
          "model_module_version": "1.5.0",
          "state": {
            "_view_name": "StyleView",
            "_model_name": "ProgressStyleModel",
            "description_width": "",
            "_view_module": "@jupyter-widgets/base",
            "_model_module_version": "1.5.0",
            "_view_count": null,
            "_view_module_version": "1.2.0",
            "bar_color": null,
            "_model_module": "@jupyter-widgets/controls"
          }
        },
        "7eb259d63e50439899e85368d6f6eb78": {
          "model_module": "@jupyter-widgets/base",
          "model_name": "LayoutModel",
          "model_module_version": "1.2.0",
          "state": {
            "_view_name": "LayoutView",
            "grid_template_rows": null,
            "right": null,
            "justify_content": null,
            "_view_module": "@jupyter-widgets/base",
            "overflow": null,
            "_model_module_version": "1.2.0",
            "_view_count": null,
            "flex_flow": null,
            "width": null,
            "min_width": null,
            "border": null,
            "align_items": null,
            "bottom": null,
            "_model_module": "@jupyter-widgets/base",
            "top": null,
            "grid_column": null,
            "overflow_y": null,
            "overflow_x": null,
            "grid_auto_flow": null,
            "grid_area": null,
            "grid_template_columns": null,
            "flex": null,
            "_model_name": "LayoutModel",
            "justify_items": null,
            "grid_row": null,
            "max_height": null,
            "align_content": null,
            "visibility": null,
            "align_self": null,
            "height": null,
            "min_height": null,
            "padding": null,
            "grid_auto_rows": null,
            "grid_gap": null,
            "max_width": null,
            "order": null,
            "_view_module_version": "1.2.0",
            "grid_template_areas": null,
            "object_position": null,
            "object_fit": null,
            "grid_auto_columns": null,
            "margin": null,
            "display": null,
            "left": null
          }
        },
        "66617d1c691b43dfbf93f241ee0c5131": {
          "model_module": "@jupyter-widgets/controls",
          "model_name": "DescriptionStyleModel",
          "model_module_version": "1.5.0",
          "state": {
            "_view_name": "StyleView",
            "_model_name": "DescriptionStyleModel",
            "description_width": "",
            "_view_module": "@jupyter-widgets/base",
            "_model_module_version": "1.5.0",
            "_view_count": null,
            "_view_module_version": "1.2.0",
            "_model_module": "@jupyter-widgets/controls"
          }
        },
        "a4a89ff06087442799e04a3258ec927d": {
          "model_module": "@jupyter-widgets/base",
          "model_name": "LayoutModel",
          "model_module_version": "1.2.0",
          "state": {
            "_view_name": "LayoutView",
            "grid_template_rows": null,
            "right": null,
            "justify_content": null,
            "_view_module": "@jupyter-widgets/base",
            "overflow": null,
            "_model_module_version": "1.2.0",
            "_view_count": null,
            "flex_flow": null,
            "width": null,
            "min_width": null,
            "border": null,
            "align_items": null,
            "bottom": null,
            "_model_module": "@jupyter-widgets/base",
            "top": null,
            "grid_column": null,
            "overflow_y": null,
            "overflow_x": null,
            "grid_auto_flow": null,
            "grid_area": null,
            "grid_template_columns": null,
            "flex": null,
            "_model_name": "LayoutModel",
            "justify_items": null,
            "grid_row": null,
            "max_height": null,
            "align_content": null,
            "visibility": null,
            "align_self": null,
            "height": null,
            "min_height": null,
            "padding": null,
            "grid_auto_rows": null,
            "grid_gap": null,
            "max_width": null,
            "order": null,
            "_view_module_version": "1.2.0",
            "grid_template_areas": null,
            "object_position": null,
            "object_fit": null,
            "grid_auto_columns": null,
            "margin": null,
            "display": null,
            "left": null
          }
        }
      }
    }
  },
  "cells": [
    {
      "cell_type": "code",
      "metadata": {
        "id": "Ema0p4zFB1PZ"
      },
      "source": [
        "import torch\n",
        "import torchvision"
      ],
      "execution_count": 1,
      "outputs": []
    },
    {
      "cell_type": "code",
      "metadata": {
        "id": "fzUl8O9Kj4FB"
      },
      "source": [
        "## Specifying the constants in the script"
      ],
      "execution_count": null,
      "outputs": []
    },
    {
      "cell_type": "code",
      "metadata": {
        "colab": {
          "base_uri": "https://localhost:8080/"
        },
        "id": "Ly50uPedB2rI",
        "outputId": "111b39b1-0783-4529-c2fb-33581986414f"
      },
      "source": [
        "n_epochs = 3\n",
        "batch_size_train = 64\n",
        "batch_size_test = 1000\n",
        "learning_rate = 0.01\n",
        "momentum = 0.5\n",
        "log_interval = 10\n",
        "\n",
        "random_seed = 1\n",
        "torch.backends.cudnn.enabled = False\n",
        "torch.manual_seed(random_seed)"
      ],
      "execution_count": 2,
      "outputs": [
        {
          "output_type": "execute_result",
          "data": {
            "text/plain": [
              "<torch._C.Generator at 0x7fa429db87d0>"
            ]
          },
          "metadata": {},
          "execution_count": 2
        }
      ]
    },
    {
      "cell_type": "code",
      "metadata": {
        "id": "WgSKQrYwj1Ix"
      },
      "source": [
        "## Creating a dataloader."
      ],
      "execution_count": null,
      "outputs": []
    },
    {
      "cell_type": "code",
      "metadata": {
        "colab": {
          "base_uri": "https://localhost:8080/",
          "height": 484,
          "referenced_widgets": [
            "0d735910667647539d6a4dba0658f8bc",
            "df98923625d94da99639cf5275ff1af6",
            "ae56fa8b972643a0a0eedc29a1bf4598",
            "0ba541382a4041af81a07df8f4a83e5e",
            "024f6a4ccfec434b9201bd60e5befd59",
            "17ca3863ce964d50bab5b4bd1a2e4b94",
            "f4c2880233cc4ec4859f4ad27e7facdf",
            "fad2dc483efb4db4940aa618a9d87bca",
            "9c2ec4f6977244d78ebc2e6af2a91b13",
            "e16bff6a478b4fc887248921ad3626cb",
            "f8e2e5fc11e447c8af0644cf2582a0ba",
            "1640dd03cd8f47aaa3b69ca53262c690",
            "863caef971e74fd6b2cd094720262c9b",
            "1c729f096f6947c1af5fc669d5d3d0fe",
            "e45000e4d7b6466b9ee94340d64a3e72",
            "e6db95d06146431287840308ec1af086",
            "db6fa9bde60246a386c98f3a5e75ec7c",
            "5b8f80a117b14599a3c2d69573081bd9",
            "d43e0df3bbb44edab0bab2a5f91c33a7",
            "5ad8029bef1544fe867c85db838785b7",
            "9a5a5016484d4f648ab5e18b0066e4a2",
            "e44423fcc8d84ac4bfcf32cfea88e81a",
            "6b3abab474af4fd19ac173d7c5e3cf84",
            "ad60de2c411143a7934f0502fdf3fffe",
            "fffdc8fc60f24c8ba8095c0e843ea2f4",
            "c6671ba183bf4b6194cb0c0d7d2598ac",
            "c34173bff3e6454cba8846771f0c2ff0",
            "9c1060cedda340d8a18ff536952b0166",
            "119491a069b145fc8a6f8772b2433450",
            "c6a1ac6721174f82bd49bea1c73dab99",
            "9bb38ef91d414485a1dfeb699bbf25b2",
            "b79aecc224b745c1a02a55c5a0ecb760",
            "4fcee3774fca4b87ada5c6cd14ce3f12",
            "a042b6ae8d7f4b79bd0a49985de05a9a",
            "39ea426bc6c64da8b3e1dad4e3294beb",
            "7229298fc43644c1849829ed317e89c5",
            "83e587ad240a46c8bd6470bef5d2b4df",
            "130ed0b1149c496685c996ca14ffa5b6",
            "ba7a69aa0b3f448b9d3f2dc9d8715908",
            "2f51c5014dfb4447bbdf45c16c6ed85d",
            "472d8d8e07a54e088dfccd677fc204e7",
            "7eb259d63e50439899e85368d6f6eb78",
            "66617d1c691b43dfbf93f241ee0c5131",
            "a4a89ff06087442799e04a3258ec927d"
          ]
        },
        "id": "04uLoHMiB5q4",
        "outputId": "7d1a74c5-0bea-4830-c14a-5c411839982f"
      },
      "source": [
        "train_loader = torch.utils.data.DataLoader(\n",
        "  torchvision.datasets.MNIST('/files/', train=True, download=True,\n",
        "                             transform=torchvision.transforms.Compose([\n",
        "                               torchvision.transforms.ToTensor(),\n",
        "                               torchvision.transforms.Normalize(\n",
        "                                 (0.1307,), (0.3081,))\n",
        "                             ])),\n",
        "  batch_size=batch_size_train, shuffle=True)\n",
        "\n",
        "test_loader = torch.utils.data.DataLoader(\n",
        "  torchvision.datasets.MNIST('/files/', train=False, download=True,\n",
        "                             transform=torchvision.transforms.Compose([\n",
        "                               torchvision.transforms.ToTensor(),\n",
        "                               torchvision.transforms.Normalize(\n",
        "                                 (0.1307,), (0.3081,))\n",
        "                             ])),\n",
        "  batch_size=batch_size_test, shuffle=True)"
      ],
      "execution_count": 3,
      "outputs": [
        {
          "output_type": "stream",
          "name": "stdout",
          "text": [
            "Downloading http://yann.lecun.com/exdb/mnist/train-images-idx3-ubyte.gz\n",
            "Downloading http://yann.lecun.com/exdb/mnist/train-images-idx3-ubyte.gz to /files/MNIST/raw/train-images-idx3-ubyte.gz\n"
          ]
        },
        {
          "output_type": "display_data",
          "data": {
            "application/vnd.jupyter.widget-view+json": {
              "model_id": "0d735910667647539d6a4dba0658f8bc",
              "version_minor": 0,
              "version_major": 2
            },
            "text/plain": [
              "  0%|          | 0/9912422 [00:00<?, ?it/s]"
            ]
          },
          "metadata": {}
        },
        {
          "output_type": "stream",
          "name": "stdout",
          "text": [
            "Extracting /files/MNIST/raw/train-images-idx3-ubyte.gz to /files/MNIST/raw\n",
            "\n",
            "Downloading http://yann.lecun.com/exdb/mnist/train-labels-idx1-ubyte.gz\n",
            "Downloading http://yann.lecun.com/exdb/mnist/train-labels-idx1-ubyte.gz to /files/MNIST/raw/train-labels-idx1-ubyte.gz\n"
          ]
        },
        {
          "output_type": "display_data",
          "data": {
            "application/vnd.jupyter.widget-view+json": {
              "model_id": "1640dd03cd8f47aaa3b69ca53262c690",
              "version_minor": 0,
              "version_major": 2
            },
            "text/plain": [
              "  0%|          | 0/28881 [00:00<?, ?it/s]"
            ]
          },
          "metadata": {}
        },
        {
          "output_type": "stream",
          "name": "stdout",
          "text": [
            "Extracting /files/MNIST/raw/train-labels-idx1-ubyte.gz to /files/MNIST/raw\n",
            "\n",
            "Downloading http://yann.lecun.com/exdb/mnist/t10k-images-idx3-ubyte.gz\n",
            "Downloading http://yann.lecun.com/exdb/mnist/t10k-images-idx3-ubyte.gz to /files/MNIST/raw/t10k-images-idx3-ubyte.gz\n"
          ]
        },
        {
          "output_type": "display_data",
          "data": {
            "application/vnd.jupyter.widget-view+json": {
              "model_id": "6b3abab474af4fd19ac173d7c5e3cf84",
              "version_minor": 0,
              "version_major": 2
            },
            "text/plain": [
              "  0%|          | 0/1648877 [00:00<?, ?it/s]"
            ]
          },
          "metadata": {}
        },
        {
          "output_type": "stream",
          "name": "stdout",
          "text": [
            "Extracting /files/MNIST/raw/t10k-images-idx3-ubyte.gz to /files/MNIST/raw\n",
            "\n",
            "Downloading http://yann.lecun.com/exdb/mnist/t10k-labels-idx1-ubyte.gz\n",
            "Downloading http://yann.lecun.com/exdb/mnist/t10k-labels-idx1-ubyte.gz to /files/MNIST/raw/t10k-labels-idx1-ubyte.gz\n"
          ]
        },
        {
          "output_type": "display_data",
          "data": {
            "application/vnd.jupyter.widget-view+json": {
              "model_id": "a042b6ae8d7f4b79bd0a49985de05a9a",
              "version_minor": 0,
              "version_major": 2
            },
            "text/plain": [
              "  0%|          | 0/4542 [00:00<?, ?it/s]"
            ]
          },
          "metadata": {}
        },
        {
          "output_type": "stream",
          "name": "stdout",
          "text": [
            "Extracting /files/MNIST/raw/t10k-labels-idx1-ubyte.gz to /files/MNIST/raw\n",
            "\n"
          ]
        },
        {
          "output_type": "stream",
          "name": "stderr",
          "text": [
            "/usr/local/lib/python3.7/dist-packages/torchvision/datasets/mnist.py:498: UserWarning: The given NumPy array is not writeable, and PyTorch does not support non-writeable tensors. This means you can write to the underlying (supposedly non-writeable) NumPy array using the tensor. You may want to copy the array to protect its data or make it writeable before converting it to a tensor. This type of warning will be suppressed for the rest of this program. (Triggered internally at  /pytorch/torch/csrc/utils/tensor_numpy.cpp:180.)\n",
            "  return torch.from_numpy(parsed.astype(m[2], copy=False)).view(*s)\n"
          ]
        }
      ]
    },
    {
      "cell_type": "code",
      "metadata": {
        "id": "ctsGofrZB8yA"
      },
      "source": [
        "examples = enumerate(test_loader)\n",
        "batch_idx, (example_data, example_targets) = next(examples)"
      ],
      "execution_count": 4,
      "outputs": []
    },
    {
      "cell_type": "code",
      "metadata": {
        "colab": {
          "base_uri": "https://localhost:8080/"
        },
        "id": "7fvAV4zUB_L9",
        "outputId": "237b2ce6-5555-4b81-f628-f988517d4cf8"
      },
      "source": [
        "example_data.shape"
      ],
      "execution_count": 5,
      "outputs": [
        {
          "output_type": "execute_result",
          "data": {
            "text/plain": [
              "torch.Size([1000, 1, 28, 28])"
            ]
          },
          "metadata": {},
          "execution_count": 5
        }
      ]
    },
    {
      "cell_type": "code",
      "metadata": {
        "id": "Z348f4Krjp8a"
      },
      "source": [
        "## These are the ground truth values plotted against the images, which form a part of the training set."
      ],
      "execution_count": null,
      "outputs": []
    },
    {
      "cell_type": "code",
      "metadata": {
        "colab": {
          "base_uri": "https://localhost:8080/",
          "height": 551
        },
        "id": "NLh7QcxeCBDn",
        "outputId": "61ecc04c-5bcd-48f2-b23f-8848d6a4fb87"
      },
      "source": [
        "import matplotlib.pyplot as plt\n",
        "\n",
        "fig = plt.figure()\n",
        "for i in range(6):\n",
        "  plt.subplot(2,3,i+1)\n",
        "  plt.tight_layout()\n",
        "  plt.imshow(example_data[i][0], cmap='gray', interpolation='none')\n",
        "  plt.title(\"Ground Truth: {}\".format(example_targets[i]))\n",
        "  plt.xticks([])\n",
        "  plt.yticks([])\n",
        "fig"
      ],
      "execution_count": 6,
      "outputs": [
        {
          "output_type": "execute_result",
          "data": {
            "image/png": "[encoded data removed]",
            "text/plain": [
              "<Figure size 432x288 with 6 Axes>"
            ]
          },
          "metadata": {},
          "execution_count": 6
        },
        {
          "output_type": "display_data",
          "data": {
            "image/png": "[encoded data removed]",
            "text/plain": [
              "<Figure size 432x288 with 6 Axes>"
            ]
          },
          "metadata": {}
        }
      ]
    },
    {
      "cell_type": "code",
      "metadata": {
        "id": "stvup0ZaCC7n"
      },
      "source": [
        "import torch.nn as nn\n",
        "import torch.nn.functional as F\n",
        "import torch.optim as optim"
      ],
      "execution_count": 7,
      "outputs": []
    },
    {
      "cell_type": "code",
      "metadata": {
        "id": "-nRLZWpvjDAp"
      },
      "source": [
        "## This is the NN model that we train for this multi-class classification task"
      ],
      "execution_count": null,
      "outputs": []
    },
    {
      "cell_type": "code",
      "metadata": {
        "id": "In5HRvYFCGsr"
      },
      "source": [
        "class Net(nn.Module):\n",
        "    def __init__(self):\n",
        "        super(Net, self).__init__()\n",
        "        self.conv1 = nn.Conv2d(1, 10, kernel_size=5)\n",
        "        self.conv2 = nn.Conv2d(10, 20, kernel_size=5)\n",
        "        self.conv2_drop = nn.Dropout2d()\n",
        "        self.fc1 = nn.Linear(320, 50)\n",
        "        self.fc2 = nn.Linear(50, 10)\n",
        "\n",
        "    def forward(self, x):\n",
        "        x = F.relu(F.max_pool2d(self.conv1(x), 2))\n",
        "        x = F.relu(F.max_pool2d(self.conv2_drop(self.conv2(x)), 2))\n",
        "        x = x.view(-1, 320)\n",
        "        x = F.relu(self.fc1(x))\n",
        "        x = F.dropout(x, training=self.training)\n",
        "        x = self.fc2(x)\n",
        "        return F.log_softmax(x)"
      ],
      "execution_count": 8,
      "outputs": []
    },
    {
      "cell_type": "code",
      "metadata": {
        "id": "uPYQSoJgCIqq"
      },
      "source": [
        "network = Net()\n",
        "optimizer = optim.SGD(network.parameters(), lr=learning_rate,\n",
        "                      momentum=momentum)"
      ],
      "execution_count": 9,
      "outputs": []
    },
    {
      "cell_type": "code",
      "metadata": {
        "id": "mqnUCABDCNTe"
      },
      "source": [
        "train_losses = []\n",
        "train_counter = []\n",
        "test_losses = []\n",
        "test_counter = [i*len(train_loader.dataset) for i in range(n_epochs + 1)]"
      ],
      "execution_count": 10,
      "outputs": []
    },
    {
      "cell_type": "code",
      "metadata": {
        "id": "MISUAd5UCy3B"
      },
      "source": [
        "% mkdir results"
      ],
      "execution_count": 14,
      "outputs": []
    },
    {
      "cell_type": "code",
      "metadata": {
        "id": "kn5lkDRoCp_b"
      },
      "source": [
        "def train(epoch):\n",
        "  network.train()\n",
        "  for batch_idx, (data, target) in enumerate(train_loader):\n",
        "    optimizer.zero_grad()\n",
        "    output = network(data)\n",
        "    ## We use a cross-entropy loss function here\n",
        "    loss = F.nll_loss(output, target)\n",
        "    loss.backward()\n",
        "    optimizer.step()\n",
        "    if batch_idx % log_interval == 0:\n",
        "      print('Train Epoch: {} [{}/{} ({:.0f}%)]\\tLoss: {:.6f}'.format(\n",
        "        epoch, batch_idx * len(data), len(train_loader.dataset),\n",
        "        100. * batch_idx / len(train_loader), loss.item()))\n",
        "      train_losses.append(loss.item())\n",
        "      train_counter.append(\n",
        "        (batch_idx*64) + ((epoch-1)*len(train_loader.dataset)))\n",
        "      torch.save(network.state_dict(), '/content/results/model.pth')\n",
        "      torch.save(optimizer.state_dict(), '/content/results/optimizer.pth')"
      ],
      "execution_count": 15,
      "outputs": []
    },
    {
      "cell_type": "code",
      "metadata": {
        "id": "6iuaevjwCruq"
      },
      "source": [
        "def test():\n",
        "  network.eval()\n",
        "  test_loss = 0\n",
        "  correct = 0\n",
        "  with torch.no_grad():\n",
        "    for data, target in test_loader:\n",
        "      output = network(data)\n",
        "      test_loss += F.nll_loss(output, target, size_average=False).item()\n",
        "      pred = output.data.max(1, keepdim=True)[1]\n",
        "      correct += pred.eq(target.data.view_as(pred)).sum()\n",
        "  test_loss /= len(test_loader.dataset)\n",
        "  test_losses.append(test_loss)\n",
        "  print('\\nTest set: Avg. loss: {:.4f}, Accuracy: {}/{} ({:.0f}%)\\n'.format(\n",
        "    test_loss, correct, len(test_loader.dataset),\n",
        "    100. * correct / len(test_loader.dataset)))"
      ],
      "execution_count": 16,
      "outputs": []
    },
    {
      "cell_type": "code",
      "metadata": {
        "colab": {
          "base_uri": "https://localhost:8080/"
        },
        "id": "nCGakgvhCwPF",
        "outputId": "0ad6a9c4-0293-44c3-84cc-6908635d97e0"
      },
      "source": [
        "test()\n",
        "for epoch in range(1, n_epochs + 1):\n",
        "  train(epoch)\n",
        "  test()"
      ],
      "execution_count": 17,
      "outputs": [
        {
          "output_type": "stream",
          "name": "stderr",
          "text": [
            "/usr/local/lib/python3.7/dist-packages/ipykernel_launcher.py:17: UserWarning: Implicit dimension choice for log_softmax has been deprecated. Change the call to include dim=X as an argument.\n",
            "/usr/local/lib/python3.7/dist-packages/torch/nn/_reduction.py:42: UserWarning: size_average and reduce args will be deprecated, please use reduction='sum' instead.\n",
            "  warnings.warn(warning.format(ret))\n"
          ]
        },
        {
          "output_type": "stream",
          "name": "stdout",
          "text": [
            "\n",
            "Test set: Avg. loss: 2.3084, Accuracy: 923/10000 (9%)\n",
            "\n",
            "Train Epoch: 1 [0/60000 (0%)]\tLoss: 2.324247\n",
            "Train Epoch: 1 [640/60000 (1%)]\tLoss: 2.273413\n",
            "Train Epoch: 1 [1280/60000 (2%)]\tLoss: 2.252027\n",
            "Train Epoch: 1 [1920/60000 (3%)]\tLoss: 2.279411\n",
            "Train Epoch: 1 [2560/60000 (4%)]\tLoss: 2.259859\n",
            "Train Epoch: 1 [3200/60000 (5%)]\tLoss: 2.255871\n",
            "Train Epoch: 1 [3840/60000 (6%)]\tLoss: 2.175713\n",
            "Train Epoch: 1 [4480/60000 (7%)]\tLoss: 2.212805\n",
            "Train Epoch: 1 [5120/60000 (9%)]\tLoss: 2.093185\n",
            "Train Epoch: 1 [5760/60000 (10%)]\tLoss: 2.029723\n",
            "Train Epoch: 1 [6400/60000 (11%)]\tLoss: 1.901314\n",
            "Train Epoch: 1 [7040/60000 (12%)]\tLoss: 1.907668\n",
            "Train Epoch: 1 [7680/60000 (13%)]\tLoss: 1.777701\n",
            "Train Epoch: 1 [8320/60000 (14%)]\tLoss: 1.564114\n",
            "Train Epoch: 1 [8960/60000 (15%)]\tLoss: 1.368979\n",
            "Train Epoch: 1 [9600/60000 (16%)]\tLoss: 1.345801\n",
            "Train Epoch: 1 [10240/60000 (17%)]\tLoss: 1.409030\n",
            "Train Epoch: 1 [10880/60000 (18%)]\tLoss: 1.169695\n",
            "Train Epoch: 1 [11520/60000 (19%)]\tLoss: 1.430620\n",
            "Train Epoch: 1 [12160/60000 (20%)]\tLoss: 1.222797\n",
            "Train Epoch: 1 [12800/60000 (21%)]\tLoss: 1.082074\n",
            "Train Epoch: 1 [13440/60000 (22%)]\tLoss: 1.056539\n",
            "Train Epoch: 1 [14080/60000 (23%)]\tLoss: 1.303431\n",
            "Train Epoch: 1 [14720/60000 (25%)]\tLoss: 1.100831\n",
            "Train Epoch: 1 [15360/60000 (26%)]\tLoss: 0.974001\n",
            "Train Epoch: 1 [16000/60000 (27%)]\tLoss: 0.983569\n",
            "Train Epoch: 1 [16640/60000 (28%)]\tLoss: 1.212202\n",
            "Train Epoch: 1 [17280/60000 (29%)]\tLoss: 0.880097\n",
            "Train Epoch: 1 [17920/60000 (30%)]\tLoss: 0.949058\n",
            "Train Epoch: 1 [18560/60000 (31%)]\tLoss: 0.873583\n",
            "Train Epoch: 1 [19200/60000 (32%)]\tLoss: 0.783155\n",
            "Train Epoch: 1 [19840/60000 (33%)]\tLoss: 0.719743\n",
            "Train Epoch: 1 [20480/60000 (34%)]\tLoss: 0.936193\n",
            "Train Epoch: 1 [21120/60000 (35%)]\tLoss: 0.727191\n",
            "Train Epoch: 1 [21760/60000 (36%)]\tLoss: 0.684633\n",
            "Train Epoch: 1 [22400/60000 (37%)]\tLoss: 0.761075\n",
            "Train Epoch: 1 [23040/60000 (38%)]\tLoss: 0.570740\n",
            "Train Epoch: 1 [23680/60000 (39%)]\tLoss: 0.709951\n",
            "Train Epoch: 1 [24320/60000 (41%)]\tLoss: 0.752390\n",
            "Train Epoch: 1 [24960/60000 (42%)]\tLoss: 0.774485\n",
            "Train Epoch: 1 [25600/60000 (43%)]\tLoss: 0.668411\n",
            "Train Epoch: 1 [26240/60000 (44%)]\tLoss: 0.527619\n",
            "Train Epoch: 1 [26880/60000 (45%)]\tLoss: 0.524389\n",
            "Train Epoch: 1 [27520/60000 (46%)]\tLoss: 0.454094\n",
            "Train Epoch: 1 [28160/60000 (47%)]\tLoss: 0.712162\n",
            "Train Epoch: 1 [28800/60000 (48%)]\tLoss: 0.609025\n",
            "Train Epoch: 1 [29440/60000 (49%)]\tLoss: 0.578952\n",
            "Train Epoch: 1 [30080/60000 (50%)]\tLoss: 0.460836\n",
            "Train Epoch: 1 [30720/60000 (51%)]\tLoss: 0.722528\n",
            "Train Epoch: 1 [31360/60000 (52%)]\tLoss: 0.601816\n",
            "Train Epoch: 1 [32000/60000 (53%)]\tLoss: 0.459637\n",
            "Train Epoch: 1 [32640/60000 (54%)]\tLoss: 0.774403\n",
            "Train Epoch: 1 [33280/60000 (55%)]\tLoss: 0.555011\n",
            "Train Epoch: 1 [33920/60000 (57%)]\tLoss: 0.795289\n",
            "Train Epoch: 1 [34560/60000 (58%)]\tLoss: 0.699446\n",
            "Train Epoch: 1 [35200/60000 (59%)]\tLoss: 0.471010\n",
            "Train Epoch: 1 [35840/60000 (60%)]\tLoss: 0.902876\n",
            "Train Epoch: 1 [36480/60000 (61%)]\tLoss: 0.550798\n",
            "Train Epoch: 1 [37120/60000 (62%)]\tLoss: 0.271694\n",
            "Train Epoch: 1 [37760/60000 (63%)]\tLoss: 0.427267\n",
            "Train Epoch: 1 [38400/60000 (64%)]\tLoss: 0.795488\n",
            "Train Epoch: 1 [39040/60000 (65%)]\tLoss: 0.729294\n",
            "Train Epoch: 1 [39680/60000 (66%)]\tLoss: 0.765648\n",
            "Train Epoch: 1 [40320/60000 (67%)]\tLoss: 0.641168\n",
            "Train Epoch: 1 [40960/60000 (68%)]\tLoss: 0.740099\n",
            "Train Epoch: 1 [41600/60000 (69%)]\tLoss: 0.496299\n",
            "Train Epoch: 1 [42240/60000 (70%)]\tLoss: 0.665989\n",
            "Train Epoch: 1 [42880/60000 (71%)]\tLoss: 0.321886\n",
            "Train Epoch: 1 [43520/60000 (72%)]\tLoss: 0.498299\n",
            "Train Epoch: 1 [44160/60000 (74%)]\tLoss: 0.823391\n",
            "Train Epoch: 1 [44800/60000 (75%)]\tLoss: 0.531069\n",
            "Train Epoch: 1 [45440/60000 (76%)]\tLoss: 0.454909\n",
            "Train Epoch: 1 [46080/60000 (77%)]\tLoss: 0.468402\n",
            "Train Epoch: 1 [46720/60000 (78%)]\tLoss: 0.566343\n",
            "Train Epoch: 1 [47360/60000 (79%)]\tLoss: 0.517019\n",
            "Train Epoch: 1 [48000/60000 (80%)]\tLoss: 0.567886\n",
            "Train Epoch: 1 [48640/60000 (81%)]\tLoss: 0.916261\n",
            "Train Epoch: 1 [49280/60000 (82%)]\tLoss: 0.548676\n",
            "Train Epoch: 1 [49920/60000 (83%)]\tLoss: 0.507965\n",
            "Train Epoch: 1 [50560/60000 (84%)]\tLoss: 0.526569\n",
            "Train Epoch: 1 [51200/60000 (85%)]\tLoss: 0.666625\n",
            "Train Epoch: 1 [51840/60000 (86%)]\tLoss: 0.787126\n",
            "Train Epoch: 1 [52480/60000 (87%)]\tLoss: 0.564426\n",
            "Train Epoch: 1 [53120/60000 (88%)]\tLoss: 0.496179\n",
            "Train Epoch: 1 [53760/60000 (90%)]\tLoss: 0.598093\n",
            "Train Epoch: 1 [54400/60000 (91%)]\tLoss: 0.343777\n",
            "Train Epoch: 1 [55040/60000 (92%)]\tLoss: 0.486140\n",
            "Train Epoch: 1 [55680/60000 (93%)]\tLoss: 0.710441\n",
            "Train Epoch: 1 [56320/60000 (94%)]\tLoss: 0.523454\n",
            "Train Epoch: 1 [56960/60000 (95%)]\tLoss: 0.471905\n",
            "Train Epoch: 1 [57600/60000 (96%)]\tLoss: 0.324590\n",
            "Train Epoch: 1 [58240/60000 (97%)]\tLoss: 0.439669\n",
            "Train Epoch: 1 [58880/60000 (98%)]\tLoss: 0.395160\n",
            "Train Epoch: 1 [59520/60000 (99%)]\tLoss: 0.586672\n",
            "\n",
            "Test set: Avg. loss: 0.1850, Accuracy: 9468/10000 (95%)\n",
            "\n",
            "Train Epoch: 2 [0/60000 (0%)]\tLoss: 0.383780\n",
            "Train Epoch: 2 [640/60000 (1%)]\tLoss: 0.591912\n",
            "Train Epoch: 2 [1280/60000 (2%)]\tLoss: 0.418103\n",
            "Train Epoch: 2 [1920/60000 (3%)]\tLoss: 0.366794\n",
            "Train Epoch: 2 [2560/60000 (4%)]\tLoss: 0.680747\n",
            "Train Epoch: 2 [3200/60000 (5%)]\tLoss: 0.517700\n",
            "Train Epoch: 2 [3840/60000 (6%)]\tLoss: 0.592445\n",
            "Train Epoch: 2 [4480/60000 (7%)]\tLoss: 0.455009\n",
            "Train Epoch: 2 [5120/60000 (9%)]\tLoss: 0.468996\n",
            "Train Epoch: 2 [5760/60000 (10%)]\tLoss: 0.344705\n",
            "Train Epoch: 2 [6400/60000 (11%)]\tLoss: 0.354251\n",
            "Train Epoch: 2 [7040/60000 (12%)]\tLoss: 0.531487\n",
            "Train Epoch: 2 [7680/60000 (13%)]\tLoss: 0.392252\n",
            "Train Epoch: 2 [8320/60000 (14%)]\tLoss: 0.485797\n",
            "Train Epoch: 2 [8960/60000 (15%)]\tLoss: 0.243483\n",
            "Train Epoch: 2 [9600/60000 (16%)]\tLoss: 0.544971\n",
            "Train Epoch: 2 [10240/60000 (17%)]\tLoss: 0.504000\n",
            "Train Epoch: 2 [10880/60000 (18%)]\tLoss: 0.213771\n",
            "Train Epoch: 2 [11520/60000 (19%)]\tLoss: 0.336071\n",
            "Train Epoch: 2 [12160/60000 (20%)]\tLoss: 0.427442\n",
            "Train Epoch: 2 [12800/60000 (21%)]\tLoss: 0.556552\n",
            "Train Epoch: 2 [13440/60000 (22%)]\tLoss: 0.504211\n",
            "Train Epoch: 2 [14080/60000 (23%)]\tLoss: 0.403546\n",
            "Train Epoch: 2 [14720/60000 (25%)]\tLoss: 0.335504\n",
            "Train Epoch: 2 [15360/60000 (26%)]\tLoss: 0.624385\n",
            "Train Epoch: 2 [16000/60000 (27%)]\tLoss: 0.312780\n",
            "Train Epoch: 2 [16640/60000 (28%)]\tLoss: 0.355419\n",
            "Train Epoch: 2 [17280/60000 (29%)]\tLoss: 0.225713\n",
            "Train Epoch: 2 [17920/60000 (30%)]\tLoss: 0.230030\n",
            "Train Epoch: 2 [18560/60000 (31%)]\tLoss: 0.346570\n",
            "Train Epoch: 2 [19200/60000 (32%)]\tLoss: 0.384768\n",
            "Train Epoch: 2 [19840/60000 (33%)]\tLoss: 0.234157\n",
            "Train Epoch: 2 [20480/60000 (34%)]\tLoss: 0.230577\n",
            "Train Epoch: 2 [21120/60000 (35%)]\tLoss: 0.577878\n",
            "Train Epoch: 2 [21760/60000 (36%)]\tLoss: 0.302392\n",
            "Train Epoch: 2 [22400/60000 (37%)]\tLoss: 0.260472\n",
            "Train Epoch: 2 [23040/60000 (38%)]\tLoss: 0.595782\n",
            "Train Epoch: 2 [23680/60000 (39%)]\tLoss: 0.414543\n",
            "Train Epoch: 2 [24320/60000 (41%)]\tLoss: 0.210673\n",
            "Train Epoch: 2 [24960/60000 (42%)]\tLoss: 0.447924\n",
            "Train Epoch: 2 [25600/60000 (43%)]\tLoss: 0.364065\n",
            "Train Epoch: 2 [26240/60000 (44%)]\tLoss: 0.535708\n",
            "Train Epoch: 2 [26880/60000 (45%)]\tLoss: 0.542483\n",
            "Train Epoch: 2 [27520/60000 (46%)]\tLoss: 0.396769\n",
            "Train Epoch: 2 [28160/60000 (47%)]\tLoss: 0.559024\n",
            "Train Epoch: 2 [28800/60000 (48%)]\tLoss: 0.519225\n",
            "Train Epoch: 2 [29440/60000 (49%)]\tLoss: 0.175183\n",
            "Train Epoch: 2 [30080/60000 (50%)]\tLoss: 0.247950\n",
            "Train Epoch: 2 [30720/60000 (51%)]\tLoss: 0.285022\n",
            "Train Epoch: 2 [31360/60000 (52%)]\tLoss: 0.328192\n",
            "Train Epoch: 2 [32000/60000 (53%)]\tLoss: 0.300502\n",
            "Train Epoch: 2 [32640/60000 (54%)]\tLoss: 0.514039\n",
            "Train Epoch: 2 [33280/60000 (55%)]\tLoss: 0.326439\n",
            "Train Epoch: 2 [33920/60000 (57%)]\tLoss: 0.475154\n",
            "Train Epoch: 2 [34560/60000 (58%)]\tLoss: 0.257583\n",
            "Train Epoch: 2 [35200/60000 (59%)]\tLoss: 0.306618\n",
            "Train Epoch: 2 [35840/60000 (60%)]\tLoss: 0.222647\n",
            "Train Epoch: 2 [36480/60000 (61%)]\tLoss: 0.332930\n",
            "Train Epoch: 2 [37120/60000 (62%)]\tLoss: 0.239863\n",
            "Train Epoch: 2 [37760/60000 (63%)]\tLoss: 0.399599\n",
            "Train Epoch: 2 [38400/60000 (64%)]\tLoss: 0.184716\n",
            "Train Epoch: 2 [39040/60000 (65%)]\tLoss: 0.342027\n",
            "Train Epoch: 2 [39680/60000 (66%)]\tLoss: 0.316944\n",
            "Train Epoch: 2 [40320/60000 (67%)]\tLoss: 0.362762\n",
            "Train Epoch: 2 [40960/60000 (68%)]\tLoss: 0.194810\n",
            "Train Epoch: 2 [41600/60000 (69%)]\tLoss: 0.275908\n",
            "Train Epoch: 2 [42240/60000 (70%)]\tLoss: 0.384835\n",
            "Train Epoch: 2 [42880/60000 (71%)]\tLoss: 0.359920\n",
            "Train Epoch: 2 [43520/60000 (72%)]\tLoss: 0.458504\n",
            "Train Epoch: 2 [44160/60000 (74%)]\tLoss: 0.254941\n",
            "Train Epoch: 2 [44800/60000 (75%)]\tLoss: 0.417776\n",
            "Train Epoch: 2 [45440/60000 (76%)]\tLoss: 0.317821\n",
            "Train Epoch: 2 [46080/60000 (77%)]\tLoss: 0.316175\n",
            "Train Epoch: 2 [46720/60000 (78%)]\tLoss: 0.339388\n",
            "Train Epoch: 2 [47360/60000 (79%)]\tLoss: 0.143247\n",
            "Train Epoch: 2 [48000/60000 (80%)]\tLoss: 0.199680\n",
            "Train Epoch: 2 [48640/60000 (81%)]\tLoss: 0.374825\n",
            "Train Epoch: 2 [49280/60000 (82%)]\tLoss: 0.483000\n",
            "Train Epoch: 2 [49920/60000 (83%)]\tLoss: 0.236485\n",
            "Train Epoch: 2 [50560/60000 (84%)]\tLoss: 0.349933\n",
            "Train Epoch: 2 [51200/60000 (85%)]\tLoss: 0.264138\n",
            "Train Epoch: 2 [51840/60000 (86%)]\tLoss: 0.252873\n",
            "Train Epoch: 2 [52480/60000 (87%)]\tLoss: 0.159232\n",
            "Train Epoch: 2 [53120/60000 (88%)]\tLoss: 0.260659\n",
            "Train Epoch: 2 [53760/60000 (90%)]\tLoss: 0.384718\n",
            "Train Epoch: 2 [54400/60000 (91%)]\tLoss: 0.533860\n",
            "Train Epoch: 2 [55040/60000 (92%)]\tLoss: 0.305911\n",
            "Train Epoch: 2 [55680/60000 (93%)]\tLoss: 0.356580\n",
            "Train Epoch: 2 [56320/60000 (94%)]\tLoss: 0.311102\n",
            "Train Epoch: 2 [56960/60000 (95%)]\tLoss: 0.277740\n",
            "Train Epoch: 2 [57600/60000 (96%)]\tLoss: 0.562649\n",
            "Train Epoch: 2 [58240/60000 (97%)]\tLoss: 0.418052\n",
            "Train Epoch: 2 [58880/60000 (98%)]\tLoss: 0.521125\n",
            "Train Epoch: 2 [59520/60000 (99%)]\tLoss: 0.314030\n",
            "\n",
            "Test set: Avg. loss: 0.1192, Accuracy: 9652/10000 (97%)\n",
            "\n",
            "Train Epoch: 3 [0/60000 (0%)]\tLoss: 0.244546\n",
            "Train Epoch: 3 [640/60000 (1%)]\tLoss: 0.399490\n",
            "Train Epoch: 3 [1280/60000 (2%)]\tLoss: 0.367861\n",
            "Train Epoch: 3 [1920/60000 (3%)]\tLoss: 0.407610\n",
            "Train Epoch: 3 [2560/60000 (4%)]\tLoss: 0.464715\n",
            "Train Epoch: 3 [3200/60000 (5%)]\tLoss: 0.331039\n",
            "Train Epoch: 3 [3840/60000 (6%)]\tLoss: 0.326763\n",
            "Train Epoch: 3 [4480/60000 (7%)]\tLoss: 0.273399\n",
            "Train Epoch: 3 [5120/60000 (9%)]\tLoss: 0.358172\n",
            "Train Epoch: 3 [5760/60000 (10%)]\tLoss: 0.463245\n",
            "Train Epoch: 3 [6400/60000 (11%)]\tLoss: 0.231365\n",
            "Train Epoch: 3 [7040/60000 (12%)]\tLoss: 0.287413\n",
            "Train Epoch: 3 [7680/60000 (13%)]\tLoss: 0.262130\n",
            "Train Epoch: 3 [8320/60000 (14%)]\tLoss: 0.262152\n",
            "Train Epoch: 3 [8960/60000 (15%)]\tLoss: 0.218930\n",
            "Train Epoch: 3 [9600/60000 (16%)]\tLoss: 0.285799\n",
            "Train Epoch: 3 [10240/60000 (17%)]\tLoss: 0.286656\n",
            "Train Epoch: 3 [10880/60000 (18%)]\tLoss: 0.500331\n",
            "Train Epoch: 3 [11520/60000 (19%)]\tLoss: 0.359259\n",
            "Train Epoch: 3 [12160/60000 (20%)]\tLoss: 0.360175\n",
            "Train Epoch: 3 [12800/60000 (21%)]\tLoss: 0.286772\n",
            "Train Epoch: 3 [13440/60000 (22%)]\tLoss: 0.252349\n",
            "Train Epoch: 3 [14080/60000 (23%)]\tLoss: 0.341330\n",
            "Train Epoch: 3 [14720/60000 (25%)]\tLoss: 0.262990\n",
            "Train Epoch: 3 [15360/60000 (26%)]\tLoss: 0.329814\n",
            "Train Epoch: 3 [16000/60000 (27%)]\tLoss: 0.276093\n",
            "Train Epoch: 3 [16640/60000 (28%)]\tLoss: 0.352218\n",
            "Train Epoch: 3 [17280/60000 (29%)]\tLoss: 0.370321\n",
            "Train Epoch: 3 [17920/60000 (30%)]\tLoss: 0.217727\n",
            "Train Epoch: 3 [18560/60000 (31%)]\tLoss: 0.322729\n",
            "Train Epoch: 3 [19200/60000 (32%)]\tLoss: 0.239155\n",
            "Train Epoch: 3 [19840/60000 (33%)]\tLoss: 0.205754\n",
            "Train Epoch: 3 [20480/60000 (34%)]\tLoss: 0.280383\n",
            "Train Epoch: 3 [21120/60000 (35%)]\tLoss: 0.310622\n",
            "Train Epoch: 3 [21760/60000 (36%)]\tLoss: 0.351217\n",
            "Train Epoch: 3 [22400/60000 (37%)]\tLoss: 0.393755\n",
            "Train Epoch: 3 [23040/60000 (38%)]\tLoss: 0.336082\n",
            "Train Epoch: 3 [23680/60000 (39%)]\tLoss: 0.366525\n",
            "Train Epoch: 3 [24320/60000 (41%)]\tLoss: 0.214708\n",
            "Train Epoch: 3 [24960/60000 (42%)]\tLoss: 0.255382\n",
            "Train Epoch: 3 [25600/60000 (43%)]\tLoss: 0.156195\n",
            "Train Epoch: 3 [26240/60000 (44%)]\tLoss: 0.518252\n",
            "Train Epoch: 3 [26880/60000 (45%)]\tLoss: 0.395054\n",
            "Train Epoch: 3 [27520/60000 (46%)]\tLoss: 0.241644\n",
            "Train Epoch: 3 [28160/60000 (47%)]\tLoss: 0.246356\n",
            "Train Epoch: 3 [28800/60000 (48%)]\tLoss: 0.335330\n",
            "Train Epoch: 3 [29440/60000 (49%)]\tLoss: 0.334173\n",
            "Train Epoch: 3 [30080/60000 (50%)]\tLoss: 0.256554\n",
            "Train Epoch: 3 [30720/60000 (51%)]\tLoss: 0.263813\n",
            "Train Epoch: 3 [31360/60000 (52%)]\tLoss: 0.205397\n",
            "Train Epoch: 3 [32000/60000 (53%)]\tLoss: 0.488301\n",
            "Train Epoch: 3 [32640/60000 (54%)]\tLoss: 0.614230\n",
            "Train Epoch: 3 [33280/60000 (55%)]\tLoss: 0.181425\n",
            "Train Epoch: 3 [33920/60000 (57%)]\tLoss: 0.276084\n",
            "Train Epoch: 3 [34560/60000 (58%)]\tLoss: 0.334930\n",
            "Train Epoch: 3 [35200/60000 (59%)]\tLoss: 0.362507\n",
            "Train Epoch: 3 [35840/60000 (60%)]\tLoss: 0.219488\n",
            "Train Epoch: 3 [36480/60000 (61%)]\tLoss: 0.316872\n",
            "Train Epoch: 3 [37120/60000 (62%)]\tLoss: 0.261528\n",
            "Train Epoch: 3 [37760/60000 (63%)]\tLoss: 0.472463\n",
            "Train Epoch: 3 [38400/60000 (64%)]\tLoss: 0.477636\n",
            "Train Epoch: 3 [39040/60000 (65%)]\tLoss: 0.274189\n",
            "Train Epoch: 3 [39680/60000 (66%)]\tLoss: 0.410909\n",
            "Train Epoch: 3 [40320/60000 (67%)]\tLoss: 0.367838\n",
            "Train Epoch: 3 [40960/60000 (68%)]\tLoss: 0.261906\n",
            "Train Epoch: 3 [41600/60000 (69%)]\tLoss: 0.257619\n",
            "Train Epoch: 3 [42240/60000 (70%)]\tLoss: 0.284121\n",
            "Train Epoch: 3 [42880/60000 (71%)]\tLoss: 0.241015\n",
            "Train Epoch: 3 [43520/60000 (72%)]\tLoss: 0.399175\n",
            "Train Epoch: 3 [44160/60000 (74%)]\tLoss: 0.212217\n",
            "Train Epoch: 3 [44800/60000 (75%)]\tLoss: 0.432375\n",
            "Train Epoch: 3 [45440/60000 (76%)]\tLoss: 0.216117\n",
            "Train Epoch: 3 [46080/60000 (77%)]\tLoss: 0.270786\n",
            "Train Epoch: 3 [46720/60000 (78%)]\tLoss: 0.309805\n",
            "Train Epoch: 3 [47360/60000 (79%)]\tLoss: 0.400466\n",
            "Train Epoch: 3 [48000/60000 (80%)]\tLoss: 0.341239\n",
            "Train Epoch: 3 [48640/60000 (81%)]\tLoss: 0.328662\n",
            "Train Epoch: 3 [49280/60000 (82%)]\tLoss: 0.486607\n",
            "Train Epoch: 3 [49920/60000 (83%)]\tLoss: 0.497989\n",
            "Train Epoch: 3 [50560/60000 (84%)]\tLoss: 0.196962\n",
            "Train Epoch: 3 [51200/60000 (85%)]\tLoss: 0.448639\n",
            "Train Epoch: 3 [51840/60000 (86%)]\tLoss: 0.212817\n",
            "Train Epoch: 3 [52480/60000 (87%)]\tLoss: 0.302245\n",
            "Train Epoch: 3 [53120/60000 (88%)]\tLoss: 0.227603\n",
            "Train Epoch: 3 [53760/60000 (90%)]\tLoss: 0.132259\n",
            "Train Epoch: 3 [54400/60000 (91%)]\tLoss: 0.283267\n",
            "Train Epoch: 3 [55040/60000 (92%)]\tLoss: 0.269865\n",
            "Train Epoch: 3 [55680/60000 (93%)]\tLoss: 0.345911\n",
            "Train Epoch: 3 [56320/60000 (94%)]\tLoss: 0.468273\n",
            "Train Epoch: 3 [56960/60000 (95%)]\tLoss: 0.282174\n",
            "Train Epoch: 3 [57600/60000 (96%)]\tLoss: 0.246890\n",
            "Train Epoch: 3 [58240/60000 (97%)]\tLoss: 0.270408\n",
            "Train Epoch: 3 [58880/60000 (98%)]\tLoss: 0.441191\n",
            "Train Epoch: 3 [59520/60000 (99%)]\tLoss: 0.469579\n",
            "\n",
            "Test set: Avg. loss: 0.0958, Accuracy: 9703/10000 (97%)\n",
            "\n"
          ]
        }
      ]
    },
    {
      "cell_type": "code",
      "metadata": {
        "id": "p7gej8rrDM6i",
        "colab": {
          "base_uri": "https://localhost:8080/"
        },
        "outputId": "8eb47016-0b9d-4bfd-d09f-776a1adc8a9f"
      },
      "source": [
        "with torch.no_grad():\n",
        "  output = network(example_data)"
      ],
      "execution_count": 18,
      "outputs": [
        {
          "output_type": "stream",
          "name": "stderr",
          "text": [
            "/usr/local/lib/python3.7/dist-packages/ipykernel_launcher.py:17: UserWarning: Implicit dimension choice for log_softmax has been deprecated. Change the call to include dim=X as an argument.\n"
          ]
        }
      ]
    },
    {
      "cell_type": "code",
      "metadata": {
        "id": "R5BImZ6ui7ja"
      },
      "source": [
        "## Predictions based on the trained model"
      ],
      "execution_count": null,
      "outputs": []
    },
    {
      "cell_type": "code",
      "metadata": {
        "colab": {
          "base_uri": "https://localhost:8080/",
          "height": 551
        },
        "id": "CESdMh0lDypj",
        "outputId": "9c61f7cb-ff5d-4f87-d24c-43d4f7b7f41c"
      },
      "source": [
        "fig = plt.figure()\n",
        "for i in range(6):\n",
        "  plt.subplot(2,3,i+1)\n",
        "  plt.tight_layout()\n",
        "  plt.imshow(example_data[i][0], cmap='gray', interpolation='none')\n",
        "  plt.title(\"Prediction: {}\".format(\n",
        "    output.data.max(1, keepdim=True)[1][i].item()))\n",
        "  plt.xticks([])\n",
        "  plt.yticks([])\n",
        "fig"
      ],
      "execution_count": 19,
      "outputs": [
        {
          "output_type": "execute_result",
          "data": {
            "image/png": "[encoded data removed]",
            "text/plain": [
              "<Figure size 432x288 with 6 Axes>"
            ]
          },
          "metadata": {},
          "execution_count": 19
        },
        {
          "output_type": "display_data",
          "data": {
            "image/png": "[encoded data removed]",
            "text/plain": [
              "<Figure size 432x288 with 6 Axes>"
            ]
          },
          "metadata": {}
        }
      ]
    },
    {
      "cell_type": "code",
      "metadata": {
        "id": "chE2fa8kgIEa"
      },
      "source": [
        "## output is of size (no of examples, no of classes) and contains probabilities of the example belonging to each of the classes. Each row sums up to 1.\n",
        "## Here the no of classes = 10 and no of examples in this batch = 1000"
      ],
      "execution_count": null,
      "outputs": []
    },
    {
      "cell_type": "code",
      "metadata": {
        "colab": {
          "base_uri": "https://localhost:8080/"
        },
        "id": "CBH06WzEEu2A",
        "outputId": "28d1ba48-d962-4694-8dc4-71c4f6920004"
      },
      "source": [
        "print(output.shape)"
      ],
      "execution_count": null,
      "outputs": [
        {
          "output_type": "stream",
          "name": "stdout",
          "text": [
            "torch.Size([1000, 10])\n"
          ]
        }
      ]
    },
    {
      "cell_type": "code",
      "metadata": {
        "colab": {
          "base_uri": "https://localhost:8080/"
        },
        "id": "OrGigjkBFdgl",
        "outputId": "8dc9dcc5-42a3-4ae3-e24e-93455f8c582f"
      },
      "source": [
        "print(output[:6, :])"
      ],
      "execution_count": null,
      "outputs": [
        {
          "output_type": "stream",
          "name": "stdout",
          "text": [
            "tensor([[-1.9541e+01, -1.4408e+01, -1.6725e+01, -3.0799e-04, -1.9366e+01,\n",
            "         -8.1346e+00, -2.3316e+01, -1.7116e+01, -1.4072e+01, -1.1221e+01],\n",
            "        [-1.2813e+01, -5.1221e+00, -7.9929e+00, -6.3194e+00, -1.2280e+00,\n",
            "         -9.1447e+00, -1.1793e+01, -4.1599e+00, -2.4306e+00, -5.1868e-01],\n",
            "        [-2.5717e+01, -2.3565e+01, -1.8356e+01, -1.9909e+01, -5.0139e-04,\n",
            "         -1.8096e+01, -1.9151e+01, -1.9632e+01, -1.7388e+01, -7.5984e+00],\n",
            "        [-1.7424e+01, -2.2231e+01, -1.6736e+01, -1.1927e+01, -6.8917e+00,\n",
            "         -1.3437e+01, -2.2672e+01, -5.9404e+00, -1.0821e+01, -3.6821e-03],\n",
            "        [-1.7561e+01, -2.0147e+01, -1.7535e+01, -1.0714e+01, -8.7181e+00,\n",
            "         -1.1485e+01, -2.2103e+01, -7.6697e+00, -7.4174e+00, -1.2644e-03],\n",
            "        [-7.3857e-03, -1.2955e+01, -5.7936e+00, -9.4461e+00, -1.4488e+01,\n",
            "         -9.0481e+00, -5.5210e+00, -1.5444e+01, -9.2829e+00, -1.0991e+01]])\n"
          ]
        }
      ]
    },
    {
      "cell_type": "code",
      "metadata": {
        "id": "mxnWsCbNg7Np"
      },
      "source": [
        "## We take max over each row to determine the class for each example"
      ],
      "execution_count": null,
      "outputs": []
    },
    {
      "cell_type": "code",
      "metadata": {
        "colab": {
          "base_uri": "https://localhost:8080/"
        },
        "id": "sgBqxkn7FifG",
        "outputId": "79ff6e11-2341-416e-da6d-6da1be5e1e8d"
      },
      "source": [
        "print(torch.argmax(output[:6, :], axis=1))"
      ],
      "execution_count": null,
      "outputs": [
        {
          "output_type": "stream",
          "name": "stdout",
          "text": [
            "tensor([3, 9, 4, 9, 9, 0])\n"
          ]
        }
      ]
    },
    {
      "cell_type": "code",
      "metadata": {
        "id": "E0uscktBF2mN"
      },
      "source": [
        ""
      ],
      "execution_count": null,
      "outputs": []
    }
  ]
}